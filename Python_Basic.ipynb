{
  "nbformat": 4,
  "nbformat_minor": 0,
  "metadata": {
    "colab": {
      "provenance": []
    },
    "kernelspec": {
      "name": "python3",
      "display_name": "Python 3"
    },
    "language_info": {
      "name": "python"
    }
  },
  "cells": [
    {
      "cell_type": "markdown",
      "source": [
        "# Python Basic\n"
      ],
      "metadata": {
        "id": "lpqnty-v8myM"
      }
    },
    {
      "cell_type": "markdown",
      "source": [
        "1. What is Python, and why is it popular?\n",
        " - Python is a high-level, general-purpose programming language known for its readability, simplicity, and versatility. It was created by Guido van Rossum and first released in 1991. Python emphasizes code readability and uses significant indentation, making it beginner-friendly and easy to learn.\n",
        "\n",
        " - Easy to Learn and Use, Versatile and Multi-Paradigm, Large Standard Library, Massive Community and Ecosystem, Cross-Platform Compatibility, Used in Many Fields and Backed by Big Tech\n",
        "2. What is an interpreter in Python?\n",
        "\n",
        " - An translator in Python may be a program that peruses and executes Python code line by line. It deciphers the high-level Python source code into a shape that your computer can get it and execute â ordinarily bytecode, which is at that point run by the Python runtime environment.\n",
        "3.What are pre-defined keywords in Python?\n",
        "\n",
        " - Pre-defined catchphrases in Python are saved words that have uncommon meaning to the Python mediator. You cannot utilize them as variable names, work names, or identifiers, since they are portion of the Python dialect language structure and structure.\n",
        "\n",
        "4.Can keywords be used as variable names?\n",
        "\n",
        " - No, watchwords cannot be utilized as variable names in Python beacuse On the off chance that you attempt to utilize them as variable names, Python will raise a language structure mistake, since the translator anticipates them to be utilized in their planning setting.\n",
        "\n",
        "5. What is mutability in Python?\n",
        "\n",
        " - Mutability in Python alludes to an object's capacity to be adjusted after its creation. Variable objects can have their values changed, and their inside state can be modified without making a modern question. This implies that operations can straightforwardly alter the question in put.\n",
        "\n",
        "6. Why are lists mutable, but tuples are immutable?\n",
        "\n",
        " - In Python, the elemental contrast between records and tuples lies in their mutability:\n",
        "\n",
        " Lists are changeable: This implies that after a list is made, you'll be able adjust its substance. You'll be able include, evacuate, or alter components inside the list.\n",
        "\n",
        " Tuples are permanent: This implies that once a tuple is made, its substance cannot be changed. You cannot include, expel, or adjust components. Any operation that shows up to \"alter\" a tuple really makes a unused tuple.\n",
        "\n",
        " 7. What is the difference between “==” and “is” operators in Python?\n",
        "\n",
        "  - The distinction between == and is in Python comes down to esteem vs. identity\n",
        "(Equality Operator)\n",
        "\n",
        "   Checks on the off chance that the values of two objects are equal.\n",
        "\n",
        " Meaning: Do the substance see the same?\n",
        " is (Personality Operator)\n",
        "\n",
        " Checks in the event that two factors allude to the same protest in memory.\n",
        "\n",
        "Meaning: Are they truly the same protest?\n",
        "8. What are logical operators in Python?\n",
        "\n",
        " - In Python, conditional statements—expressions that evaluate to True or False—are combined with logical operators to ascertain the overall truth value of a more intricate expression. They are frequently used to make decisions in your code in if statements, while loops, and other control flow structures.\n",
        "\n",
        "9. What is type casting in Python?\n",
        "\n",
        " - The process of changing a value's data type in Python is called type casting, or type conversion. Because you frequently need to use data in a way that requires it to be of a certain type or perform operations, this is a fundamental concept in programming.\n",
        "\n",
        " - In Python, type casting comes in two primary forms:\n",
        "\n",
        "    Conversion of Implicit Type (Coercion)\n",
        "    Type Casting, or Explicit Type Conversion\n",
        "10. What is the difference between implicit and explicit type casting?\n",
        "\n",
        "The terms \"explicit type conversion\" (also known as type casting) and \"implicit type conversion\" (also known as coercion) describe how data type changes take place in a programming language such as Python. The primary distinction is whether the interpreter/compiler or the programmer starts the conversion.\n",
        "\n",
        "11. What is the purpose of conditional statements in Python?\n",
        "\n",
        " - In Python (and programming in general), conditional statements are primarily used to allow for decision-making inside your code. Depending on whether specific conditions are True or False, they enable your program to run distinct code blocks.\n",
        "\n",
        "12.How does the elif statement work ?\n",
        "\n",
        " - Python's elif statement is an essential component of the if-elif-else ladder, also known as a chain, which is used to handle several conditions in succession. When the previous if or elif conditions have evaluated to False, it offers a means to check additional conditions. It stands for \"else if.\n",
        "\n",
        "13.What is the difference between for and while loops?\n",
        "\n",
        " - Python's for and while loops are both used for iteration, which enables you to run a block of code repeatedly. They have different methods for managing their iteration, though, and are made for various situations.\n",
        "\n",
        "14.Describe a scenario where a while loop is more suitable than a for loop?\n",
        "\n",
        " - When the number of iterations is unknown in advance and the loop must continue as long as a specific condition is true, a while loop is a better option than a for loop.\n",
        "\n",
        "\n"
      ],
      "metadata": {
        "id": "TBt-SK379AuL"
      }
    },
    {
      "cell_type": "markdown",
      "source": [],
      "metadata": {
        "id": "P3kddfeiARua"
      }
    },
    {
      "cell_type": "markdown",
      "source": [
        "# Practical Question"
      ],
      "metadata": {
        "id": "tMwClIHpNxl_"
      }
    },
    {
      "cell_type": "markdown",
      "source": [
        "1. Write a Python program to print \"Hello, World!\""
      ],
      "metadata": {
        "id": "nNfeGqdTONS5"
      }
    },
    {
      "cell_type": "code",
      "source": [
        "print(\"hello world\")\n"
      ],
      "metadata": {
        "id": "G2NvLAArObwl",
        "colab": {
          "base_uri": "https://localhost:8080/"
        },
        "outputId": "20cc9f48-812f-420d-96ae-3efb71d28eda"
      },
      "execution_count": 5,
      "outputs": [
        {
          "output_type": "stream",
          "name": "stdout",
          "text": [
            "hello world\n"
          ]
        }
      ]
    },
    {
      "cell_type": "markdown",
      "source": [
        "2. Write a Python program that displays your name and age."
      ],
      "metadata": {
        "id": "Em6H0KPWO8au"
      }
    },
    {
      "cell_type": "code",
      "source": [
        "name = \"manoranjan\"\n",
        "age = 25\n",
        "print(f\"My name is {name} and I am {age} years old.\")"
      ],
      "metadata": {
        "id": "uAWpawlJQlyl",
        "colab": {
          "base_uri": "https://localhost:8080/"
        },
        "outputId": "aefa2bd1-078d-4259-82d4-ca2f4e76ccb7"
      },
      "execution_count": 9,
      "outputs": [
        {
          "output_type": "stream",
          "name": "stdout",
          "text": [
            "My name is manoranjan and I am 25 years old.\n"
          ]
        }
      ]
    },
    {
      "cell_type": "markdown",
      "source": [
        "3. Write code to print all the pre-defined keywords in Python using the keyword library"
      ],
      "metadata": {
        "id": "D0DFrue7Sl2o"
      }
    },
    {
      "cell_type": "code",
      "source": [
        "# Obtain the Python keyword list all_keywords = keyword.kwlist\n",
        "\n",
        "# For each keyword, print(\"List of Python Keywords:\") for kw in all_keywords: print(kw)\n",
        "\n",
        "# The list can also be printed out directly.\n",
        "# print(\"Printing the list directly:\")\n",
        "# print(all_keywords)"
      ],
      "metadata": {
        "id": "RDiVGwEoSyxN"
      },
      "execution_count": 12,
      "outputs": []
    },
    {
      "cell_type": "markdown",
      "source": [
        "4. Write a program that checks if a given word is a Python keyword."
      ],
      "metadata": {
        "id": "XNFgUmVFTaOS"
      }
    },
    {
      "cell_type": "code",
      "source": [
        "import keyword\n",
        "\n",
        "def print_python_keywords():\n",
        "    # Get all Python keywords\n",
        "    all_keywords = keyword.kwlist\n",
        "\n",
        "    # Print header\n",
        "    print(\"Python Keywords:\")\n",
        "    print(\"=\" * 50)\n",
        "\n",
        "    # Print keywords in a formatted way\n",
        "    for i, kw in enumerate(all_keywords, 1):\n",
        "        print(f\"{i:2}. {kw}\")\n",
        "\n",
        "    # Print footer with total count\n",
        "    print(\"=\" * 50)\n",
        "    print(f\"Total keywords in Python: {len(all_keywords)}\")\n",
        "\n",
        "# Call the function\n",
        "print_python_keywords()"
      ],
      "metadata": {
        "id": "hwmsyCbhT-Z-",
        "colab": {
          "base_uri": "https://localhost:8080/"
        },
        "outputId": "3d5a779b-4dc3-46fe-bba2-802ae29c941d"
      },
      "execution_count": 15,
      "outputs": [
        {
          "output_type": "stream",
          "name": "stdout",
          "text": [
            "Python Keywords:\n",
            "==================================================\n",
            " 1. False\n",
            " 2. None\n",
            " 3. True\n",
            " 4. and\n",
            " 5. as\n",
            " 6. assert\n",
            " 7. async\n",
            " 8. await\n",
            " 9. break\n",
            "10. class\n",
            "11. continue\n",
            "12. def\n",
            "13. del\n",
            "14. elif\n",
            "15. else\n",
            "16. except\n",
            "17. finally\n",
            "18. for\n",
            "19. from\n",
            "20. global\n",
            "21. if\n",
            "22. import\n",
            "23. in\n",
            "24. is\n",
            "25. lambda\n",
            "26. nonlocal\n",
            "27. not\n",
            "28. or\n",
            "29. pass\n",
            "30. raise\n",
            "31. return\n",
            "32. try\n",
            "33. while\n",
            "34. with\n",
            "35. yield\n",
            "==================================================\n",
            "Total keywords in Python: 35\n"
          ]
        }
      ]
    },
    {
      "cell_type": "markdown",
      "source": [
        "5. Create a list and tuple in Python, and demonstrate how attempting to change an element works differently\n",
        "for each."
      ],
      "metadata": {
        "id": "G9n9GSHUUn2l"
      }
    },
    {
      "cell_type": "code",
      "source": [
        "# Create a list (mutable)\n",
        "my_list = [1, 2, 3, 4, 5]\n",
        "\n",
        "# Create a tuple (immutable)\n",
        "my_tuple = (1, 2, 3, 4, 5)\n",
        "\n",
        "print(\"Original list:\", my_list)\n",
        "print(\"Original tuple:\", my_tuple)"
      ],
      "metadata": {
        "id": "aqxyi8LIVSCP",
        "colab": {
          "base_uri": "https://localhost:8080/"
        },
        "outputId": "0e8170eb-9ce2-49e7-a378-6ac57ab8742e"
      },
      "execution_count": 18,
      "outputs": [
        {
          "output_type": "stream",
          "name": "stdout",
          "text": [
            "Original list: [1, 2, 3, 4, 5]\n",
            "Original tuple: (1, 2, 3, 4, 5)\n"
          ]
        }
      ]
    },
    {
      "cell_type": "markdown",
      "source": [
        "6. Write a function to demonstrate the behavior of mutable and immutable arguments."
      ],
      "metadata": {
        "id": "aMtaWJrwVwza"
      }
    },
    {
      "cell_type": "code",
      "source": [
        "def demonstrate_mutability(arg_list, arg_tuple, arg_int, arg_string):\n",
        "    \"\"\"\n",
        "    Demonstrates how mutable and immutable arguments behave in Python functions.\n",
        "\n",
        "    Parameters:\n",
        "    arg_list (list): Mutable list argument\n",
        "    arg_tuple (tuple): Immutable tuple argument\n",
        "    arg_int (int): Immutable integer argument\n",
        "    arg_string (str): Immutable string argument\n",
        "    \"\"\"\n",
        "\n",
        "    print(\"\\nInside function - Before modifications:\")\n",
        "    print(f\"List: {arg_list}, ID: {id(arg_list)}\")\n",
        "    print(f\"Tuple: {arg_tuple}, ID: {id(arg_tuple)}\")\n",
        "    print(f\"Integer: {arg_int}, ID: {id(arg_int)}\")\n",
        "    print(f\"String: {arg_string}, ID: {id(arg_string)}\")\n",
        "\n",
        "    # Attempt to modify mutable list (will affect original)\n",
        "    arg_list.append(4)\n",
        "    arg_list[0] = \"modified\"\n",
        "\n",
        "    # Attempt to modify immutable objects (creates new objects)\n",
        "    arg_tuple = arg_tuple + (4,)  # This creates a new tuple\n",
        "    arg_int += 10                 # This creates a new integer\n",
        "    arg_string += \" modified\"     # This creates a new string\n",
        "\n",
        "    print(\"\\nInside function - After modifications:\")\n",
        "    print(f\"List: {arg_list}, ID: {id(arg_list)}\")\n",
        "    print(f\"New tuple: {arg_tuple}, ID: {id(arg_tuple)}\")\n",
        "    print(f\"New integer: {arg_int}, ID: {id(arg_int)}\")\n",
        "    print(f\"New string: {arg_string}, ID: {id(arg_string)}\")\n",
        "\n",
        "# Original variables outside the function\n",
        "original_list = [1, 2, 3]\n",
        "original_tuple = (1, 2, 3)\n",
        "original_int = 10\n",
        "original_string = \"hello\"\n",
        "\n",
        "print(\"Before function call:\")\n",
        "print(f\"Original list: {original_list}, ID: {id(original_list)}\")\n",
        "print(f\"Original tuple: {original_tuple}, ID: {id(original_tuple)}\")\n",
        "print(f\"Original integer: {original_int}, ID: {id(original_int)}\")\n",
        "print(f\"Original string: {original_string}, ID: {id(original_string)}\")\n",
        "\n",
        "# Call the function\n",
        "demonstrate_mutability(original_list, original_tuple, original_int, original_string)\n",
        "\n",
        "print(\"\\nAfter function call:\")\n",
        "print(f\"Original list: {original_list}, ID: {id(original_list)}\")\n",
        "print(f\"Original tuple: {original_tuple}, ID: {id(original_tuple)}\")\n",
        "print(f\"Original integer: {original_int}, ID: {id(original_int)}\")\n",
        "print(f\"Original string: {original_string}, ID: {id(original_string)}\")"
      ],
      "metadata": {
        "id": "oDSCkYTHV2mU",
        "colab": {
          "base_uri": "https://localhost:8080/"
        },
        "outputId": "6daa0772-5541-4a9e-a0f9-9ba804fbaf35"
      },
      "execution_count": 20,
      "outputs": [
        {
          "output_type": "stream",
          "name": "stdout",
          "text": [
            "Before function call:\n",
            "Original list: [1, 2, 3], ID: 135825521136192\n",
            "Original tuple: (1, 2, 3), ID: 135826194294528\n",
            "Original integer: 10, ID: 10751144\n",
            "Original string: hello, ID: 135826607682928\n",
            "\n",
            "Inside function - Before modifications:\n",
            "List: [1, 2, 3], ID: 135825521136192\n",
            "Tuple: (1, 2, 3), ID: 135826194294528\n",
            "Integer: 10, ID: 10751144\n",
            "String: hello, ID: 135826607682928\n",
            "\n",
            "Inside function - After modifications:\n",
            "List: ['modified', 2, 3, 4], ID: 135825521136192\n",
            "New tuple: (1, 2, 3, 4), ID: 135825926520192\n",
            "New integer: 20, ID: 10751464\n",
            "New string: hello modified, ID: 135825521131760\n",
            "\n",
            "After function call:\n",
            "Original list: ['modified', 2, 3, 4], ID: 135825521136192\n",
            "Original tuple: (1, 2, 3), ID: 135826194294528\n",
            "Original integer: 10, ID: 10751144\n",
            "Original string: hello, ID: 135826607682928\n"
          ]
        }
      ]
    },
    {
      "cell_type": "markdown",
      "source": [
        "7. Write a program that performs basic arithmetic operations on two user-input numbers."
      ],
      "metadata": {
        "id": "DJ0-ERYNWPn9"
      }
    },
    {
      "cell_type": "code",
      "source": [
        "def basic_arithmetic():\n",
        "    \"\"\"\n",
        "    Performs basic arithmetic operations on two user-input numbers.\n",
        "    \"\"\"\n",
        "\n",
        "    print(\"Basic Arithmetic Calculator\")\n",
        "    print(\"--------------------------\")\n",
        "\n",
        "    try:\n",
        "        # Get user input\n",
        "        num1 = float(input(\"Enter first number: \"))\n",
        "        num2 = float(input(\"Enter second number: \"))\n",
        "\n",
        "        # Perform calculations\n",
        "        addition = num1 + num2\n",
        "        subtraction = num1 - num2\n",
        "        multiplication = num1 * num2\n",
        "        division = num1 / num2 if num2 != 0 else \"undefined (division by zero)\"\n",
        "        modulus = num1 % num2 if num2 != 0 else \"undefined (division by zero)\"\n",
        "        exponentiation = num1 ** num2\n",
        "        floor_division = num1 // num2 if num2 != 0 else \"undefined (division by zero)\"\n",
        "\n",
        "        # Display results\n",
        "        print(\"\\nResults:\")\n",
        "        print(f\"{num1} + {num2} = {addition}\")\n",
        "        print(f\"{num1} - {num2} = {subtraction}\")\n",
        "        print(f\"{num1} * {num2} = {multiplication}\")\n",
        "        print(f\"{num1} / {num2} = {division}\")\n",
        "        print(f\"{num1} % {num2} = {modulus}\")\n",
        "        print(f\"{num1} ** {num2} = {exponentiation}\")\n",
        "        print(f\"{num1} // {num2} = {floor_division}\")\n",
        "\n",
        "    except ValueError:\n",
        "        print(\"Error: Please enter valid numbers!\")\n",
        "    except Exception as e:\n",
        "        print(f\"An error occurred: {e}\")\n",
        "\n",
        "# Run the program\n",
        "basic_arithmetic()"
      ],
      "metadata": {
        "id": "pNMUWOQcWZXV",
        "colab": {
          "base_uri": "https://localhost:8080/"
        },
        "outputId": "f41b1170-8955-4cd9-d133-3e68699a8d43"
      },
      "execution_count": 23,
      "outputs": [
        {
          "output_type": "stream",
          "name": "stdout",
          "text": [
            "Basic Arithmetic Calculator\n",
            "--------------------------\n",
            "Enter first number: 1\n",
            "Enter second number: 2\n",
            "\n",
            "Results:\n",
            "1.0 + 2.0 = 3.0\n",
            "1.0 - 2.0 = -1.0\n",
            "1.0 * 2.0 = 2.0\n",
            "1.0 / 2.0 = 0.5\n",
            "1.0 % 2.0 = 1.0\n",
            "1.0 ** 2.0 = 1.0\n",
            "1.0 // 2.0 = 0.0\n"
          ]
        }
      ]
    },
    {
      "cell_type": "markdown",
      "source": [
        "8. Write a program to demonstrate the use of logical operators"
      ],
      "metadata": {
        "id": "31eClWFpWvZk"
      }
    },
    {
      "cell_type": "code",
      "source": [
        "def logical_operators_demo():\n",
        "    \"\"\"\n",
        "    Demonstrates the use of logical operators (and, or, not) in Python\n",
        "    with practical examples and truth tables.\n",
        "    \"\"\"\n",
        "    print(\"Logical Operators Demonstration\")\n",
        "    print(\"=\"*40)\n",
        "\n",
        "    # Get user input for boolean values\n",
        "    while True:\n",
        "        try:\n",
        "            a = input(\"Enter first boolean (True/False): \").strip().lower()\n",
        "            b = input(\"Enter second boolean (True/False): \").strip().lower()\n",
        "\n",
        "            # Convert to actual boolean values\n",
        "            bool_a = a == 'true'\n",
        "            bool_b = b == 'true'\n",
        "\n",
        "            # Validate input\n",
        "            if a not in ['true', 'false'] or b not in ['true', 'false']:\n",
        "                raise ValueError(\"Please enter only 'True' or 'False'\")\n",
        "\n",
        "            break\n",
        "        except ValueError as e:\n",
        "            print(f\"Invalid input: {e}. Please try again.\")\n",
        "\n",
        "    # Demonstrate logical operations\n",
        "    print(\"\\nLogical Operations Results:\")\n",
        "    print(f\"{bool_a} AND {bool_b} = {bool_a and bool_b}\")\n",
        "    print(f\"{bool_a} OR {bool_b} = {bool_a or bool_b}\")\n",
        "    print(f\"NOT {bool_a} = {not bool_a}\")\n",
        "    print(f\"NOT {bool_b} = {not bool_b}\")\n",
        "\n",
        "    # Show complete truth tables\n",
        "    print(\"\\nComplete Truth Tables:\")\n",
        "    print(\"\\nAND Operator (a and b):\")\n",
        "    print(f\"True  AND True  = {True and True}\")\n",
        "    print(f\"True  AND False = {True and False}\")\n",
        "    print(f\"False AND True  = {False and True}\")\n",
        "    print(f\"False AND False = {False and False}\")\n",
        "\n",
        "    print(\"\\nOR Operator (a or b):\")\n",
        "    print(f\"True  OR True  = {True or True}\")\n",
        "    print(f\"True  OR False = {True or False}\")\n",
        "    print(f\"False OR True  = {False or True}\")\n",
        "    print(f\"False OR False = {False or False}\")\n",
        "\n",
        "    print(\"\\nNOT Operator (not a):\")\n",
        "    print(f\"NOT True  = {not True}\")\n",
        "    print(f\"NOT False = {not False}\")\n",
        "\n",
        "    # Practical examples\n",
        "    print(\"\\nPractical Examples:\")\n",
        "    age = 25\n",
        "    has_license = True\n",
        "    print(f\"Can drive (age >= 18 and has_license)? {age >= 18 and has_license}\")\n",
        "\n",
        "    is_weekend = False\n",
        "    is_holiday = True\n",
        "    print(f\"Is day off (is_weekend or is_holiday)? {is_weekend or is_holiday}\")\n",
        "\n",
        "    is_raining = True\n",
        "    print(f\"Is it dry (not is_raining)? {not is_raining}\")\n",
        "\n",
        "# Run the demonstration\n",
        "if __name__ == \"__main__\":\n",
        "    logical_operators_demo()"
      ],
      "metadata": {
        "id": "PX1b_P02W3NS",
        "colab": {
          "base_uri": "https://localhost:8080/"
        },
        "outputId": "ece7bf1a-da39-4fe8-cf02-a3b54c25e678"
      },
      "execution_count": 25,
      "outputs": [
        {
          "output_type": "stream",
          "name": "stdout",
          "text": [
            "Logical Operators Demonstration\n",
            "========================================\n",
            "Enter first boolean (True/False): True\n",
            "Enter second boolean (True/False): False\n",
            "\n",
            "Logical Operations Results:\n",
            "True AND False = False\n",
            "True OR False = True\n",
            "NOT True = False\n",
            "NOT False = True\n",
            "\n",
            "Complete Truth Tables:\n",
            "\n",
            "AND Operator (a and b):\n",
            "True  AND True  = True\n",
            "True  AND False = False\n",
            "False AND True  = False\n",
            "False AND False = False\n",
            "\n",
            "OR Operator (a or b):\n",
            "True  OR True  = True\n",
            "True  OR False = True\n",
            "False OR True  = True\n",
            "False OR False = False\n",
            "\n",
            "NOT Operator (not a):\n",
            "NOT True  = False\n",
            "NOT False = True\n",
            "\n",
            "Practical Examples:\n",
            "Can drive (age >= 18 and has_license)? True\n",
            "Is day off (is_weekend or is_holiday)? True\n",
            "Is it dry (not is_raining)? False\n"
          ]
        }
      ]
    },
    {
      "cell_type": "markdown",
      "source": [
        "9. Write a Python program to convert user input from string to integer, float, and boolean types."
      ],
      "metadata": {
        "id": "vBuF6rnMXKhy"
      }
    },
    {
      "cell_type": "code",
      "source": [
        "def convert_input_types():\n",
        "    \"\"\"\n",
        "    Converts user input from string to integer, float, and boolean types\n",
        "    with proper error handling for invalid inputs.\n",
        "    \"\"\"\n",
        "    print(\"Data Type Conversion Program\")\n",
        "    print(\"=\"*40)\n",
        "\n",
        "    # Get user input\n",
        "    user_input = input(\"Enter a value to convert: \").strip()\n",
        "\n",
        "    # Conversion functions with error handling\n",
        "    def to_integer(s):\n",
        "        try:\n",
        "            return int(s)\n",
        "        except ValueError:\n",
        "            return f\"'{s}' cannot be converted to integer\"\n",
        "\n",
        "    def to_float(s):\n",
        "        try:\n",
        "            return float(s)\n",
        "        except ValueError:\n",
        "            return f\"'{s}' cannot be converted to float\"\n",
        "\n",
        "    def to_boolean(s):\n",
        "        s_lower = s.lower()\n",
        "        if s_lower in ('true', 't', 'yes', 'y', '1'):\n",
        "            return True\n",
        "        elif s_lower in ('false', 'f', 'no', 'n', '0'):\n",
        "            return False\n",
        "        else:\n",
        "            return f\"'{s}' cannot be converted to boolean (use true/false, yes/no, 1/0)\"\n",
        "\n",
        "    # Perform conversions\n",
        "    int_value = to_integer(user_input)\n",
        "    float_value = to_float(user_input)\n",
        "    bool_value = to_boolean(user_input)\n",
        "\n",
        "    # Display results\n",
        "    print(\"\\nConversion Results:\")\n",
        "    print(f\"Original string: {user_input!r} (type: {type(user_input)})\")\n",
        "    print(f\"Integer: {int_value} (type: {type(int_value)})\")\n",
        "    print(f\"Float: {float_value} (type: {type(float_value)})\")\n",
        "    print(f\"Boolean: {bool_value} (type: {type(bool_value)})\")\n",
        "\n",
        "    # Additional examples\n",
        "    print(\"\\nCommon Conversion Examples:\")\n",
        "    examples = [\n",
        "        \"123\", \"3.14\", \"0\", \"1\",\n",
        "        \"True\", \"False\", \"yes\", \"no\",\n",
        "        \"hello\", \"12.34.56\"\n",
        "    ]\n",
        "\n",
        "    for example in examples:\n",
        "        print(f\"\\nExample: {example!r}\")\n",
        "        print(f\"int: {to_integer(example)}\")\n",
        "        print(f\"float: {to_float(example)}\")\n",
        "        print(f\"bool: {to_boolean(example)}\")\n",
        "\n",
        "# Run the program\n",
        "if __name__ == \"__main__\":\n",
        "    convert_input_types()"
      ],
      "metadata": {
        "id": "nk4mCSAjXRnT",
        "colab": {
          "base_uri": "https://localhost:8080/"
        },
        "outputId": "1cb22d6a-a940-4878-c7ce-74431abf2bad"
      },
      "execution_count": 28,
      "outputs": [
        {
          "output_type": "stream",
          "name": "stdout",
          "text": [
            "Data Type Conversion Program\n",
            "========================================\n",
            "Enter a value to convert: 1\n",
            "\n",
            "Conversion Results:\n",
            "Original string: '1' (type: <class 'str'>)\n",
            "Integer: 1 (type: <class 'int'>)\n",
            "Float: 1.0 (type: <class 'float'>)\n",
            "Boolean: True (type: <class 'bool'>)\n",
            "\n",
            "Common Conversion Examples:\n",
            "\n",
            "Example: '123'\n",
            "int: 123\n",
            "float: 123.0\n",
            "bool: '123' cannot be converted to boolean (use true/false, yes/no, 1/0)\n",
            "\n",
            "Example: '3.14'\n",
            "int: '3.14' cannot be converted to integer\n",
            "float: 3.14\n",
            "bool: '3.14' cannot be converted to boolean (use true/false, yes/no, 1/0)\n",
            "\n",
            "Example: '0'\n",
            "int: 0\n",
            "float: 0.0\n",
            "bool: False\n",
            "\n",
            "Example: '1'\n",
            "int: 1\n",
            "float: 1.0\n",
            "bool: True\n",
            "\n",
            "Example: 'True'\n",
            "int: 'True' cannot be converted to integer\n",
            "float: 'True' cannot be converted to float\n",
            "bool: True\n",
            "\n",
            "Example: 'False'\n",
            "int: 'False' cannot be converted to integer\n",
            "float: 'False' cannot be converted to float\n",
            "bool: False\n",
            "\n",
            "Example: 'yes'\n",
            "int: 'yes' cannot be converted to integer\n",
            "float: 'yes' cannot be converted to float\n",
            "bool: True\n",
            "\n",
            "Example: 'no'\n",
            "int: 'no' cannot be converted to integer\n",
            "float: 'no' cannot be converted to float\n",
            "bool: False\n",
            "\n",
            "Example: 'hello'\n",
            "int: 'hello' cannot be converted to integer\n",
            "float: 'hello' cannot be converted to float\n",
            "bool: 'hello' cannot be converted to boolean (use true/false, yes/no, 1/0)\n",
            "\n",
            "Example: '12.34.56'\n",
            "int: '12.34.56' cannot be converted to integer\n",
            "float: '12.34.56' cannot be converted to float\n",
            "bool: '12.34.56' cannot be converted to boolean (use true/false, yes/no, 1/0)\n"
          ]
        }
      ]
    },
    {
      "cell_type": "markdown",
      "source": [
        "10. Write code to demonstrate type casting with list elements."
      ],
      "metadata": {
        "id": "HLoIbP1FXnwc"
      }
    },
    {
      "cell_type": "code",
      "source": [
        "def demonstrate_list_type_casting():\n",
        "    \"\"\"\n",
        "    Demonstrates type casting with list elements, showing successful conversions\n",
        "    and handling errors for incompatible types.\n",
        "    \"\"\"\n",
        "    print(\"List Element Type Casting Demonstration\")\n",
        "    print(\"=\" * 50)\n",
        "\n",
        "    # Sample list with different types of elements\n",
        "    mixed_list = [\"123\", \"45.67\", \"True\", \"hello\", 10, 3.14, False, \"0\", \"1.2.3\"]\n",
        "\n",
        "    print(\"Original list:\", mixed_list)\n",
        "    print(\"\\nElement types in original list:\")\n",
        "    for item in mixed_list:\n",
        "        print(f\"{item!r}: {type(item)}\")\n",
        "\n",
        "    # Conversion attempts\n",
        "    print(\"\\nConversion Results:\")\n",
        "\n",
        "    # 1. Convert all possible elements to integers\n",
        "    int_converted = []\n",
        "    for item in mixed_list:\n",
        "        try:\n",
        "            int_converted.append(int(item))\n",
        "        except (ValueError, TypeError):\n",
        "            int_converted.append(f\"Could not convert {item!r} to int\")\n",
        "\n",
        "    print(\"\\nInteger conversion attempts:\")\n",
        "    for original, converted in zip(mixed_list, int_converted):\n",
        "        print(f\"{original!r} → {converted}\")\n",
        "\n",
        "    # 2. Convert all possible elements to floats\n",
        "    float_converted = []\n",
        "    for item in mixed_list:\n",
        "        try:\n",
        "            float_converted.append(float(item))\n",
        "        except (ValueError, TypeError):\n",
        "            float_converted.append(f\"Could not convert {item!r} to float\")\n",
        "\n",
        "    print(\"\\nFloat conversion attempts:\")\n",
        "    for original, converted in zip(mixed_list, float_converted):\n",
        "        print(f\"{original!r} → {converted}\")\n",
        "\n",
        "    # 3. Convert all possible elements to booleans\n",
        "    bool_converted = []\n",
        "    for item in mixed_list:\n",
        "        if isinstance(item, str):\n",
        "            lower_item = item.lower()\n",
        "            if lower_item in ('true', 'yes', '1'):\n",
        "                bool_converted.append(True)\n",
        "            elif lower_item in ('false', 'no', '0'):\n",
        "                bool_converted.append(False)\n",
        "            else:\n",
        "                bool_converted.append(f\"Could not convert {item!r} to bool\")\n",
        "        else:\n",
        "            bool_converted.append(bool(item))\n",
        "\n",
        "    print(\"\\nBoolean conversion attempts:\")\n",
        "    for original, converted in zip(mixed_list, bool_converted):\n",
        "        print(f\"{original!r} → {converted}\")\n",
        "\n",
        "    # 4. Convert all possible elements to strings\n",
        "    str_converted = [str(item) for item in mixed_list]\n",
        "\n",
        "    print(\"\\nString conversion (always works):\")\n",
        "    for original, converted in zip(mixed_list, str_converted):\n",
        "        print(f\"{original!r} → {converted!r} (type: {type(converted)})\")\n",
        "\n",
        "if __name__ == \"__main__\":\n",
        "    demonstrate_list_type_casting()\n",
        ""
      ],
      "metadata": {
        "id": "D_3hRIFOXvoq",
        "colab": {
          "base_uri": "https://localhost:8080/"
        },
        "outputId": "26c7bfc5-8932-4e83-e7f3-fd04db991def"
      },
      "execution_count": 29,
      "outputs": [
        {
          "output_type": "stream",
          "name": "stdout",
          "text": [
            "List Element Type Casting Demonstration\n",
            "==================================================\n",
            "Original list: ['123', '45.67', 'True', 'hello', 10, 3.14, False, '0', '1.2.3']\n",
            "\n",
            "Element types in original list:\n",
            "'123': <class 'str'>\n",
            "'45.67': <class 'str'>\n",
            "'True': <class 'str'>\n",
            "'hello': <class 'str'>\n",
            "10: <class 'int'>\n",
            "3.14: <class 'float'>\n",
            "False: <class 'bool'>\n",
            "'0': <class 'str'>\n",
            "'1.2.3': <class 'str'>\n",
            "\n",
            "Conversion Results:\n",
            "\n",
            "Integer conversion attempts:\n",
            "'123' → 123\n",
            "'45.67' → Could not convert '45.67' to int\n",
            "'True' → Could not convert 'True' to int\n",
            "'hello' → Could not convert 'hello' to int\n",
            "10 → 10\n",
            "3.14 → 3\n",
            "False → 0\n",
            "'0' → 0\n",
            "'1.2.3' → Could not convert '1.2.3' to int\n",
            "\n",
            "Float conversion attempts:\n",
            "'123' → 123.0\n",
            "'45.67' → 45.67\n",
            "'True' → Could not convert 'True' to float\n",
            "'hello' → Could not convert 'hello' to float\n",
            "10 → 10.0\n",
            "3.14 → 3.14\n",
            "False → 0.0\n",
            "'0' → 0.0\n",
            "'1.2.3' → Could not convert '1.2.3' to float\n",
            "\n",
            "Boolean conversion attempts:\n",
            "'123' → Could not convert '123' to bool\n",
            "'45.67' → Could not convert '45.67' to bool\n",
            "'True' → True\n",
            "'hello' → Could not convert 'hello' to bool\n",
            "10 → True\n",
            "3.14 → True\n",
            "False → False\n",
            "'0' → False\n",
            "'1.2.3' → Could not convert '1.2.3' to bool\n",
            "\n",
            "String conversion (always works):\n",
            "'123' → '123' (type: <class 'str'>)\n",
            "'45.67' → '45.67' (type: <class 'str'>)\n",
            "'True' → 'True' (type: <class 'str'>)\n",
            "'hello' → 'hello' (type: <class 'str'>)\n",
            "10 → '10' (type: <class 'str'>)\n",
            "3.14 → '3.14' (type: <class 'str'>)\n",
            "False → 'False' (type: <class 'str'>)\n",
            "'0' → '0' (type: <class 'str'>)\n",
            "'1.2.3' → '1.2.3' (type: <class 'str'>)\n"
          ]
        }
      ]
    },
    {
      "cell_type": "markdown",
      "source": [
        "11. Write a program that checks if a number is positive, negative, or zero"
      ],
      "metadata": {
        "id": "akTZRt85YHXw"
      }
    },
    {
      "cell_type": "code",
      "source": [
        "def check_number():\n",
        "    \"\"\"\n",
        "    This program checks if a number is positive, negative, or zero.\n",
        "    It handles both integer and float inputs.\n",
        "    \"\"\"\n",
        "    try:\n",
        "        # Get user input\n",
        "        num = float(input(\"Enter a number: \"))\n",
        "\n",
        "        # Check the number\n",
        "        if num > 0:\n",
        "            print(f\"{num} is a positive number.\")\n",
        "        elif num < 0:\n",
        "            print(f\"{num} is a negative number.\")\n",
        "        else:\n",
        "            print(\"The number is zero.\")\n",
        "\n",
        "    except ValueError:\n",
        "        print(\"Invalid input. Please enter a valid number.\")\n",
        "\n",
        "# Run the program\n",
        "if __name__ == \"__main__\":\n",
        "    check_number()"
      ],
      "metadata": {
        "id": "6HJHD0S5YNBV",
        "colab": {
          "base_uri": "https://localhost:8080/"
        },
        "outputId": "36b0cfa1-a2b3-417d-a036-e30c5289d97d"
      },
      "execution_count": 34,
      "outputs": [
        {
          "output_type": "stream",
          "name": "stdout",
          "text": [
            "Enter a number: 5\n",
            "5.0 is a positive number.\n"
          ]
        }
      ]
    },
    {
      "cell_type": "markdown",
      "source": [
        "12. Write a for loop to print numbers from 1 to 10"
      ],
      "metadata": {
        "id": "oY0n2LwVYhdb"
      }
    },
    {
      "cell_type": "code",
      "source": [
        "for i in range(1, 11):\n",
        "    print(i)"
      ],
      "metadata": {
        "id": "mLtdVJ1WYoHa",
        "colab": {
          "base_uri": "https://localhost:8080/"
        },
        "outputId": "7b54de4d-34df-4cb6-b15c-e1c5050aebd6"
      },
      "execution_count": 35,
      "outputs": [
        {
          "output_type": "stream",
          "name": "stdout",
          "text": [
            "1\n",
            "2\n",
            "3\n",
            "4\n",
            "5\n",
            "6\n",
            "7\n",
            "8\n",
            "9\n",
            "10\n"
          ]
        }
      ]
    },
    {
      "cell_type": "markdown",
      "source": [
        "13. Write a Python program to find the sum of all even numbers between 1 and 50."
      ],
      "metadata": {
        "id": "9JKu_dW5Y-G5"
      }
    },
    {
      "cell_type": "markdown",
      "source": [
        "Using a step in range() in a for loop"
      ],
      "metadata": {
        "id": "42dKZVnBZWvO"
      }
    },
    {
      "cell_type": "code",
      "source": [
        "# Method 1: Using a for loop with range\n",
        "total = 0\n",
        "for num in range(2, 51, 2):  # Start at 2, end before 51, step by 2\n",
        "    total += num\n",
        "\n",
        "print(\"Sum of even numbers (1-50) using for loop:\", total)\n",
        "\n",
        "# Method 2: Using sum() with range (more Pythonic)\n",
        "sum_even = sum(range(2, 51, 2))\n",
        "print(\"Sum of even numbers (1-50) using sum():\", sum_even)\n",
        "\n",
        "# Method 3: Using while loop\n",
        "total = 0\n",
        "num = 2\n",
        "while num <= 50:\n",
        "    total += num\n",
        "    num += 2\n",
        "\n",
        "print(\"Sum of even numbers (1-50) using while loop:\", total)\n",
        "\n",
        "# Verification using mathematical formula\n",
        "# Sum of even numbers = n*(n+1) where n is count of even numbers\n",
        "n = 50 // 2  # 25 even numbers between 1-50\n",
        "formula_sum = n * (n + 1)\n",
        "print(\"Mathematical verification:\", formula_sum)"
      ],
      "metadata": {
        "id": "MqkZipgqZGJ1",
        "colab": {
          "base_uri": "https://localhost:8080/"
        },
        "outputId": "a58c05ff-0db0-475b-8297-1c4b6c8d2faf"
      },
      "execution_count": 36,
      "outputs": [
        {
          "output_type": "stream",
          "name": "stdout",
          "text": [
            "Sum of even numbers (1-50) using for loop: 650\n",
            "Sum of even numbers (1-50) using sum(): 650\n",
            "Sum of even numbers (1-50) using while loop: 650\n",
            "Mathematical verification: 650\n"
          ]
        }
      ]
    },
    {
      "cell_type": "markdown",
      "source": [
        "14. Write a program to reverse a string using a while loop."
      ],
      "metadata": {
        "id": "qFAix4DzaEi_"
      }
    },
    {
      "cell_type": "code",
      "source": [
        "def reverse_string(input_str):\n",
        "    \"\"\"\n",
        "    Reverses a string using a while loop\n",
        "\n",
        "    Args:\n",
        "    input_str (str): The string to be reversed\n",
        "\n",
        "    Returns:\n",
        "    str: The reversed string\n",
        "    \"\"\"\n",
        "    reversed_str = \"\"\n",
        "    index = len(input_str) - 1  # Start from the last character\n",
        "\n",
        "    while index >= 0:\n",
        "        reversed_str += input_str[index]\n",
        "        index -= 1  # Move to the previous character\n",
        "\n",
        "    return reversed_str\n",
        "\n",
        "# Get user input\n",
        "user_input = input(\"Enter a string to reverse: \")\n",
        "\n",
        "# Reverse the string\n",
        "result = reverse_string(user_input)\n",
        "\n",
        "# Display the result\n",
        "print(f\"Original string: {user_input}\")\n",
        "print(f\"Reversed string: {result}\")"
      ],
      "metadata": {
        "id": "SMLGEOfZaLh5",
        "colab": {
          "base_uri": "https://localhost:8080/"
        },
        "outputId": "dc810f2b-7fb9-4568-83f7-c58f2d1b0686"
      },
      "execution_count": 37,
      "outputs": [
        {
          "output_type": "stream",
          "name": "stdout",
          "text": [
            "Enter a string to reverse: 7\n",
            "Original string: 7\n",
            "Reversed string: 7\n"
          ]
        }
      ]
    },
    {
      "cell_type": "markdown",
      "source": [
        "15. Write a Python program to calculate the factorial of a number provided by the user using a while loop"
      ],
      "metadata": {
        "id": "4ToP5P6canZ5"
      }
    },
    {
      "cell_type": "markdown",
      "source": [
        "A non-negative integer n's factorial, represented by n!, is the product of all positive integers that are less than or equal to n. 5!=5×4×3×2×1=120, for instance. 0!=1 by definition."
      ],
      "metadata": {
        "id": "DbuHN_MhbE4k"
      }
    },
    {
      "cell_type": "code",
      "source": [
        "# Get input from the user\n",
        "num = int(input(\"Enter a non-negative integer to calculate its factorial: \"))\n",
        "\n",
        "# Initialize variables\n",
        "factorial = 1\n",
        "i = 1\n",
        "\n",
        "# Handle edge cases\n",
        "if num < 0:\n",
        "    print(\"Factorial is not defined for negative numbers.\")\n",
        "elif num == 0:\n",
        "    print(\"The factorial of 0 is 1\")\n",
        "else:\n",
        "    # Calculate factorial using while loop\n",
        "    while i <= num:\n",
        "        factorial *= i\n",
        "        i += 1\n",
        "\n",
        "    # Display the result\n",
        "    print(f\"The factorial of {num} is {factorial}\")"
      ],
      "metadata": {
        "id": "KdpZpT7Kau5F",
        "colab": {
          "base_uri": "https://localhost:8080/"
        },
        "outputId": "e06683b9-dc19-401f-d290-15e0d34ce98b"
      },
      "execution_count": 38,
      "outputs": [
        {
          "output_type": "stream",
          "name": "stdout",
          "text": [
            "Enter a non-negative integer to calculate its factorial: 7\n",
            "The factorial of 7 is 5040\n"
          ]
        }
      ]
    }
  ]
}