{
  "nbformat": 4,
  "nbformat_minor": 0,
  "metadata": {
    "colab": {
      "provenance": []
    },
    "kernelspec": {
      "name": "python3",
      "display_name": "Python 3"
    },
    "language_info": {
      "name": "python"
    }
  },
  "cells": [
    {
      "cell_type": "markdown",
      "source": [
        " # Restful API & Flask"
      ],
      "metadata": {
        "id": "e2_6HZCAXdxh"
      }
    },
    {
      "cell_type": "markdown",
      "source": [
        "1. What is a RESTful API?\n",
        " - A RESTful API (Representational State Transfer API) is a type of web API that follows the principles of REST, an architectural style for designing networked applications. Systems can communicate over HTTP using common HTTP methods thanks to RESTful APIs."
      ],
      "metadata": {
        "id": "C6bpyoqxH74B"
      }
    },
    {
      "cell_type": "markdown",
      "source": [
        "2. Explain the concept of API specification?\n",
        " - An API specification is a comprehensive, organized document or format that outlines the capabilities, interface, and expected outcomes of an API. It functions as a contract between the developers who use the API and the API provider."
      ],
      "metadata": {
        "id": "2gHp-FpmJKcZ"
      }
    },
    {
      "cell_type": "markdown",
      "source": [
        "3.  What is Flask, and why is it popular for building APIs?\n",
        " - Flask is a popular lightweight Python web framework for creating RESTful APIs and web applications. It is renowned for being:\n",
        "\n",
        "    Basic and understated\n",
        "\n",
        "    Adaptable and expandable\n",
        "\n",
        "    Simple to use and understand\n",
        "\n",
        "It was developed by Armin Ronacher and is based on the Jinja2 templating engine and the Werkzeug toolkit."
      ],
      "metadata": {
        "id": "MB7pHyRxJ3ys"
      }
    },
    {
      "cell_type": "markdown",
      "source": [
        "4.  What is routing in Flask?\n",
        " - Mapping URLs (web addresses) to particular functions in your Python code that manage incoming requests is known as routing in Flask. These operations are referred to as route handlers or view functions."
      ],
      "metadata": {
        "id": "DzOP4FqkKhMj"
      }
    },
    {
      "cell_type": "markdown",
      "source": [
        "5.  How do you create a simple Flask application?\n",
        " - Step 1: Install Flask\n",
        "Step 2: Create a Python File\n",
        "Step 4: Add More Routes (Optional) Step 3: Launch the Application"
      ],
      "metadata": {
        "id": "RLSmG3vkLB0d"
      }
    },
    {
      "cell_type": "markdown",
      "source": [
        "6.  What are HTTP methods used in RESTful APIs?\n",
        " - HTTP methods specify the kind of operation you wish to carry out on a resource (such as user, post, product, etc.) in a RESTful API. These techniques correspond directly to CRUD functions."
      ],
      "metadata": {
        "id": "6qOsYeTRMReZ"
      }
    },
    {
      "cell_type": "markdown",
      "source": [
        "7.  What is the purpose of the @app.route() decorator in Flask?\n",
        " - A Python function can be bound to a URL path using Flask's @app.route() decorator. When a user makes an HTTP request to that route or visits it in a browser, this function—known as a view function—is what is run."
      ],
      "metadata": {
        "id": "NlU4r7RSND7j"
      }
    },
    {
      "cell_type": "markdown",
      "source": [
        "8. What is the difference between GET and POST HTTP methods?\n",
        " - The two HTTP methods most frequently used in web development and RESTful APIs are GET and POST. Here are the differences between them."
      ],
      "metadata": {
        "id": "Jn3RH95aNlKG"
      }
    },
    {
      "cell_type": "markdown",
      "source": [
        "9.  How do you handle errors in Flask APIs?\n",
        " - Error handling is crucial in a Flask API to guarantee that clients receive safe, reliable, and meaningful responses in the event of an issue."
      ],
      "metadata": {
        "id": "9q_CSkPIOLBt"
      }
    },
    {
      "cell_type": "markdown",
      "source": [
        "10.  How do you connect Flask to a SQL database?\n",
        " - The most popular and advised method for connecting Flask to a SQL database is to use Flask-SQLAlchemy, an extension that combines Flask with SQLAlchemy, a potent Python ORM."
      ],
      "metadata": {
        "id": "Fv-ybSX0OdNd"
      }
    },
    {
      "cell_type": "markdown",
      "source": [
        "11.  What is the role of Flask-SQLAlchemy?\n",
        " - A Flask extension called Flask-SQLAlchemy makes it easier to integrate the robust Python ORM SQLAlchemy with Flask applications.\n",
        "\n",
        "It serves as a link between SQLAlchemy and Flask, facilitating:\n",
        "\n",
        "    Establish a connection with SQL databases\n",
        "\n",
        "    Use Python classes to define data models.\n",
        "\n",
        "    Access and modify the database\n",
        "\n",
        "    Automatically manage database sessions"
      ],
      "metadata": {
        "id": "mKsQX1XSO4Xv"
      }
    },
    {
      "cell_type": "markdown",
      "source": [
        "12. What are Flask blueprints, and how are they useful?\n",
        " - Your Flask application can be arranged using Flask blueprints into more manageable, modular, and reusable parts.\n",
        "\n",
        "Consider a Blueprint as a miniature application that is registered on the main Flask app but may have its own routes, templates, static files, error handlers, and other features."
      ],
      "metadata": {
        "id": "NjZQIHEiPSaH"
      }
    },
    {
      "cell_type": "markdown",
      "source": [
        "13.  What is the purpose of Flask's request object?\n",
        " - The request object in Flask is used to retrieve incoming request data that has been sent by the client (browser, API call, etc.). It offers all the necessary components to manage HTTP requests, including JSON bodies, form data, headers, and query parameters."
      ],
      "metadata": {
        "id": "YTz-y6cmQBJi"
      }
    },
    {
      "cell_type": "markdown",
      "source": [
        "14.  How do you create a RESTful API endpoint using Flask?\n",
        " - Using @app.route() to define routes and HTTP methods like GET, POST, PUT, and DELETE to handle various request types, you can create a RESTful API endpoint in Flask."
      ],
      "metadata": {
        "id": "8M1MsDwiQYoR"
      }
    },
    {
      "cell_type": "markdown",
      "source": [
        "15. What is the purpose of Flask's jsonify() function?\n",
        " - Python data (such as dictionaries or lists) can be converted into a proper JSON response using Flask's jsonify() function. This process includes setting the appropriate HTTP headers and MIME type (application/json)."
      ],
      "metadata": {
        "id": "S7XG_rMbR1I7"
      }
    },
    {
      "cell_type": "markdown",
      "source": [
        "16.  Explain Flask’s url_for() function?\n",
        " - Instead of hardcoding paths, you can use Flask's url_for() function to create URLs for your app's routes by referencing the function name.\n",
        "\n",
        "It's particularly useful when:\n",
        "\n",
        "    You don't need to update every hardcoded URL when your URL structure changes.\n",
        "\n",
        "    You wish to use parameters to create dynamic URLs.\n",
        "\n",
        "    You wish to link between pages while working with templates."
      ],
      "metadata": {
        "id": "CuLR2We7SVgG"
      }
    },
    {
      "cell_type": "markdown",
      "source": [
        "17. How does Flask handle static files (CSS, JavaScript, etc.)\n",
        " - Static files (such as CSS, JavaScript, and images) are automatically served by Flask from a dedicated folder called static/ in the project directory."
      ],
      "metadata": {
        "id": "L-iscM-nStxc"
      }
    },
    {
      "cell_type": "markdown",
      "source": [
        "18.  What is an API specification, and how does it help in building a Flask API?\n",
        " - A formal, structured explanation of an API's behavior and the appropriate way for clients to communicate with it is called an API specification. It specifies authentication, error handling, request/response formats, methods, endpoints, and more.\n",
        "\n",
        "Put differently, it serves as a blueprint for your API's operation, akin to a client-server contract."
      ],
      "metadata": {
        "id": "Nxj6w1Y9TRhq"
      }
    },
    {
      "cell_type": "markdown",
      "source": [
        "19.  What are HTTP status codes, and why are they important in a Flask API?\n",
        " - Three-digit numbers known as HTTP status codes are given back by a web server to show how a client's request was handled. They are a component of the HTTP response and aid the client (such as a mobile app or browser) in comprehending whether the event was successful, unsuccessful, or somewhere in between."
      ],
      "metadata": {
        "id": "ktQECCcYTrce"
      }
    },
    {
      "cell_type": "markdown",
      "source": [
        "20. How do you handle POST requests in Flask?\n",
        " - You manage POST requests in Flask by:\n",
        "\n",
        "    establishing a route that is compatible with the POST protocol.\n",
        "\n",
        "    utilizing Flask's request object to retrieve client-sent data (such as JSON or form data).\n",
        "\n",
        "    processing that data, such as storing it in a database.\n",
        "\n",
        "    giving back a response, preferably along with a status code."
      ],
      "metadata": {
        "id": "UTdFkSKDUEAl"
      }
    },
    {
      "cell_type": "markdown",
      "source": [
        "21.  How would you secure a Flask API?\n",
        " - A Flask API must be secured against abuse, data leaks, illegal access, and common online vulnerabilities. A useful summary of key methods is provided below."
      ],
      "metadata": {
        "id": "oCGHcRMGVJRG"
      }
    },
    {
      "cell_type": "markdown",
      "source": [
        "22.  What is the significance of the Flask-RESTful extension?\n",
        " - An extension for Flask called Flask-RESTful facilitates the rapid and neat development of RESTful APIs."
      ],
      "metadata": {
        "id": "p164OMg-V9OT"
      }
    },
    {
      "cell_type": "markdown",
      "source": [
        "23.  What is the role of Flask’s session object?\n",
        " - Flask's session object is used to store data specific to a user across multiple requests — similar to how a login session works in web applications."
      ],
      "metadata": {
        "id": "x9hJTVbkWVOd"
      }
    },
    {
      "cell_type": "markdown",
      "source": [
        " # Practical"
      ],
      "metadata": {
        "id": "Na0KHutyXrLK"
      }
    },
    {
      "cell_type": "markdown",
      "source": [
        "1.  How do you create a basic Flask application?"
      ],
      "metadata": {
        "id": "T6McJB8WXy0M"
      }
    },
    {
      "cell_type": "code",
      "source": [
        "from flask import Flask\n",
        "\n",
        "app = Flask(__name__)  # Create the Flask application\n",
        "\n",
        "@app.route(\"/\")  # Define the root URL route\n",
        "def home():\n",
        "    return \"Hello, Flask!\"\n",
        "\n",
        "if __name__ == \"__main__\":\n",
        "    app.run(debug=True)  # Run the app in debug mode\n"
      ],
      "metadata": {
        "id": "2z_GxYe-aT5e"
      },
      "execution_count": null,
      "outputs": []
    },
    {
      "cell_type": "markdown",
      "source": [
        "2. How do you serve static files like images or CSS in Flask?"
      ],
      "metadata": {
        "id": "MLVA2W_Qaeq9"
      }
    },
    {
      "cell_type": "code",
      "source": [
        "<!DOCTYPE html>\n",
        "<html>\n",
        "<head>\n",
        "    <title>Static File Example</title>\n",
        "    <link rel=\"stylesheet\" href=\"{{ url_for('static', filename='style.css') }}\">\n",
        "</head>\n",
        "<body>\n",
        "    <h1>Hello, Flask!</h1>\n",
        "    <img src=\"{{ url_for('static', filename='image.png') }}\" alt=\"Example Image\">\n",
        "</body>\n",
        "</html>\n",
        "\n"
      ],
      "metadata": {
        "id": "9EvdCuyRaopp"
      },
      "execution_count": null,
      "outputs": []
    },
    {
      "cell_type": "markdown",
      "source": [
        "3.  How do you define different routes with different HTTP methods in Flask?"
      ],
      "metadata": {
        "id": "6NYYUUDQbttK"
      }
    },
    {
      "cell_type": "code",
      "source": [
        "from flask import Flask, request\n",
        "\n",
        "app = Flask(__name__)\n",
        "\n",
        "@app.route('/submit', methods=['GET', 'POST'])\n",
        "def submit():\n",
        "    if request.method == 'POST':\n",
        "        name = request.form.get('name')\n",
        "        return f\"Received POST with name: {name}\"\n",
        "    else:\n",
        "        return '''\n",
        "            <form method=\"POST\">\n",
        "                Name: <input type=\"text\" name=\"name\">\n",
        "                <input type=\"submit\">\n",
        "            </form>\n",
        "        '''\n",
        "\n",
        "if __name__ == \"__main__\":\n",
        "    app.run(debug=True)\n"
      ],
      "metadata": {
        "id": "ODNXsmHgb5uM"
      },
      "execution_count": null,
      "outputs": []
    },
    {
      "cell_type": "markdown",
      "source": [
        "4.  How do you render HTML templates in Flask?"
      ],
      "metadata": {
        "id": "jJMG6cbicJ4h"
      }
    },
    {
      "cell_type": "code",
      "source": [
        "from flask import Flask, render_template\n",
        "\n",
        "app = Flask(__name__)\n",
        "\n",
        "@app.route(\"/\")\n",
        "def home():\n",
        "    return render_template(\"index.html\", name=\"Flask User\")\n",
        "\n",
        "if __name__ == \"__main__\":\n",
        "    app.run(debug=True)\n"
      ],
      "metadata": {
        "id": "-98_ETkCcosJ"
      },
      "execution_count": null,
      "outputs": []
    },
    {
      "cell_type": "markdown",
      "source": [
        "5.  How can you generate URLs for routes in Flask using url_for?"
      ],
      "metadata": {
        "id": "r6hJG9cPdAhm"
      }
    },
    {
      "cell_type": "code",
      "source": [
        "from flask import Flask, url_for\n",
        "\n",
        "app = Flask(__name__)\n",
        "\n",
        "@app.route('/')\n",
        "def home():\n",
        "    return \"Home Page\"\n",
        "\n",
        "@app.route('/about')\n",
        "def about():\n",
        "    return \"About Page\"\n",
        "\n",
        "@app.route('/link')\n",
        "def link():\n",
        "    # Generates: /about\n",
        "    return f\"<a href='{url_for('about')}'>Go to About</a>\"\n",
        "\n",
        "if __name__ == '__main__':\n",
        "    app.run(debug=True)\n"
      ],
      "metadata": {
        "id": "lDxDhW0EdIUS"
      },
      "execution_count": null,
      "outputs": []
    },
    {
      "cell_type": "markdown",
      "source": [
        "6. How do you handle forms in Flask?"
      ],
      "metadata": {
        "id": "VWdT547TdOdi"
      }
    },
    {
      "cell_type": "code",
      "source": [
        "from flask import Flask, render_template, request\n",
        "\n",
        "app = Flask(__name__)\n",
        "\n",
        "@app.route('/', methods=['GET', 'POST'])\n",
        "def index():\n",
        "    if request.method == 'POST':\n",
        "        username = request.form['username']\n",
        "        return f\"Hello, {username}!\"\n",
        "    return render_template('form.html')\n",
        "\n",
        "if __name__ == '__main__':\n",
        "    app.run(debug=True)\n"
      ],
      "metadata": {
        "id": "hH6y8OCndTUt"
      },
      "execution_count": null,
      "outputs": []
    },
    {
      "cell_type": "markdown",
      "source": [
        "7. How can you validate form data in Flask?"
      ],
      "metadata": {
        "id": "DjfXXCuKd4ty"
      }
    },
    {
      "cell_type": "code",
      "source": [
        "from flask import Flask, request, render_template\n",
        "\n",
        "app = Flask(__name__)\n",
        "\n",
        "@app.route(\"/\", methods=[\"GET\", \"POST\"])\n",
        "def index():\n",
        "    error = None\n",
        "    if request.method == \"POST\":\n",
        "        username = request.form.get(\"username\", \"\").strip()\n",
        "        if not username:\n",
        "            error = \"Name is required.\"\n",
        "        elif len(username) < 3:\n",
        "            error = \"Name must be at least 3 characters long.\"\n",
        "        else:\n",
        "            return f\"Welcome, {username}!\"\n",
        "    return render_template(\"form.html\", error=error)\n"
      ],
      "metadata": {
        "id": "mHGjuMv9eC0i"
      },
      "execution_count": null,
      "outputs": []
    },
    {
      "cell_type": "markdown",
      "source": [
        "8.  How do you manage sessions in Flask?"
      ],
      "metadata": {
        "id": "wA4cFClbeOkx"
      }
    },
    {
      "cell_type": "code",
      "source": [
        "@app.route('/login', methods=['GET', 'POST'])\n",
        "def login():\n",
        "    if request.method == 'POST':\n",
        "        session['username'] = request.form['username']\n",
        "        return redirect(url_for('profile'))\n",
        "    return '''\n",
        "        <form method=\"post\">\n",
        "            Username: <input type=\"text\" name=\"username\">\n",
        "            <input type=\"submit\">\n",
        "        </form>\n",
        "    '''\n"
      ],
      "metadata": {
        "id": "y5XKSUMteWFc"
      },
      "execution_count": null,
      "outputs": []
    },
    {
      "cell_type": "markdown",
      "source": [
        "9. How do you redirect to a different route in Flask?"
      ],
      "metadata": {
        "id": "yR3JesRFejGG"
      }
    },
    {
      "cell_type": "code",
      "source": [
        "from flask import Flask, redirect, url_for, request\n",
        "\n",
        "app = Flask(__name__)\n",
        "\n",
        "@app.route('/')\n",
        "def home():\n",
        "    return \"Home Page\"\n",
        "\n",
        "@app.route('/login', methods=['POST', 'GET'])\n",
        "def login():\n",
        "    if request.method == 'POST':\n",
        "        username = request.form['username']\n",
        "        # Imagine checking username/password here\n",
        "        return redirect(url_for('profile', username=username))\n",
        "    return '''\n",
        "        <form method=\"post\">\n",
        "            Username: <input type=\"text\" name=\"username\">\n",
        "            <input type=\"submit\">\n",
        "        </form>\n",
        "    '''\n",
        "\n",
        "@app.route('/profile/<username>')\n",
        "def profile(username):\n",
        "    return f\"Welcome, {username}!\"\n",
        "\n",
        "if __name__ == '__main__':\n",
        "    app.run(debug=True)\n"
      ],
      "metadata": {
        "id": "DdiLTuo1epJD"
      },
      "execution_count": null,
      "outputs": []
    },
    {
      "cell_type": "markdown",
      "source": [
        "10.  How do you handle errors in Flask (e.g., 404) ?"
      ],
      "metadata": {
        "id": "xMYqIjnOevyp"
      }
    },
    {
      "cell_type": "code",
      "source": [
        "<!DOCTYPE html>\n",
        "<html>\n",
        "<head>\n",
        "    <title>Page Not Found</title>\n",
        "</head>\n",
        "<body>\n",
        "    <h1>404 - Page Not Found</h1>\n",
        "    <p>Oops! The page you're looking for doesn't exist.</p>\n",
        "    <a href=\"{{ url_for('home') }}\">Go to Home</a>\n",
        "</body>\n",
        "</html>\n"
      ],
      "metadata": {
        "id": "axynS8z3e6e2"
      },
      "execution_count": null,
      "outputs": []
    }
  ]
}