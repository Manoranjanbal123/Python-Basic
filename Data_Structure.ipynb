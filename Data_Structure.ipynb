{
  "nbformat": 4,
  "nbformat_minor": 0,
  "metadata": {
    "colab": {
      "provenance": []
    },
    "kernelspec": {
      "name": "python3",
      "display_name": "Python 3"
    },
    "language_info": {
      "name": "python"
    }
  },
  "cells": [
    {
      "cell_type": "markdown",
      "source": [
        " # Data Types and Structures Questions"
      ],
      "metadata": {
        "id": "y45mM3pO6Cct"
      }
    },
    {
      "cell_type": "markdown",
      "source": [
        "1. What are data structures, and why are they important?\n",
        "\n",
        " - Specialized formats known as data structures are used to manage, arrange, and store data in a computer's memory or storage. In order to ensure effective operations like insertion, deletion, searching, and sorting, they specify how data is organized, accessed, and altered.\n",
        "Data Structure Types\n",
        "\n",
        "    Structures That Are Linear\n",
        "\n",
        "        Arrays are contiguous, fixed-size memory.\n",
        "\n",
        "        Linked lists are made up of dynamic nodes connected by pointers.\n",
        "\n",
        "        LIFO stands for Last-In-First-Out, which is similar to a stack of plates.\n",
        "\n",
        "        FIFO (First-In-First-Out) queues, which resemble ticket lines.\n",
        "\n",
        "    Structures That Are Not Linear\n",
        "\n",
        "        Trees: Hierarchical (for quick lookups, use Binary Search Trees, for example).\n",
        "\n",
        "        Networks with nodes and edges, such as social ties, are called graphs.\n",
        "\n",
        "    Hash-Oriented\n",
        "\n",
        "        Key-value pairs for O(1) average-time access are known as hash tables.\n",
        "\n",
        "    Particularized Structures\n",
        "\n",
        "        Heaps: Based on priorities (used in scheduling).\n",
        "\n",
        "        Attempts: Effective text retrieval (autocomplete, for example).\n",
        "\n",
        "What Makes Data Structures Vital?\n",
        "\n",
        "    Effectiveness\n",
        "\n",
        "        They maximize both space (memory) and time (speed).\n",
        "\n",
        "        For instance, looking through a hash"
      ],
      "metadata": {
        "id": "w5cTgfNJ6Tqx"
      }
    },
    {
      "cell_type": "markdown",
      "source": [
        "2. Explain the difference between mutable and immutable data types with examples?\n",
        "\n",
        " - 1. Mutable Data Types\n",
        "\n",
        "    Definition: Things that, once created, can have their state (data) changed.\n",
        "\n",
        "    For instance:\n",
        "\n",
        "        Lists ([])\n",
        "\n",
        "        Dictionary ({})\n",
        "\n",
        "        Sets (set())\n",
        "\n",
        "        ByteArrays (bytearray())\n",
        "        "
      ],
      "metadata": {
        "id": "5BJK7mzK78wt"
      }
    },
    {
      "cell_type": "code",
      "source": [
        "fruits = [\"apple\", \"banana\"]\n",
        "fruits[0] = \"orange\"  # Modifies the list\n",
        "print(fruits)  # Output: [\"orange\", \"banana\"]"
      ],
      "metadata": {
        "colab": {
          "base_uri": "https://localhost:8080/"
        },
        "id": "p6b7i6uK9_i3",
        "outputId": "9e002961-8156-4a22-e3bc-c8d80af631ee"
      },
      "execution_count": 52,
      "outputs": [
        {
          "output_type": "stream",
          "name": "stdout",
          "text": [
            "['orange', 'banana']\n"
          ]
        }
      ]
    },
    {
      "cell_type": "markdown",
      "source": [
        "Immutable Data Types\n",
        "\n",
        "    Definition: Things that, once created, cannot be altered in state.\n",
        "\n",
        "    For instance:\n",
        "\n",
        "        Numbers (int)\n",
        "\n",
        "        It floats.\n",
        "\n",
        "        Strings (str)\n",
        "\n",
        "        (()) tuples\n",
        "\n",
        "        (frozenset()) Frozen Sets\n",
        "\n",
        "    Example (String, Immutable):"
      ],
      "metadata": {
        "id": "XFWYLBeX-UR7"
      }
    },
    {
      "cell_type": "code",
      "source": [
        "name = \"Alice\"\n",
        "name[0] = \"B\"  # ❌ Error: Strings are immutable!"
      ],
      "metadata": {
        "colab": {
          "base_uri": "https://localhost:8080/",
          "height": 163
        },
        "id": "9EL8Oa7D_J-G",
        "outputId": "49db1d49-bf65-447c-db90-ea613beab71f"
      },
      "execution_count": 53,
      "outputs": [
        {
          "output_type": "error",
          "ename": "TypeError",
          "evalue": "'str' object does not support item assignment",
          "traceback": [
            "\u001b[0;31m---------------------------------------------------------------------------\u001b[0m",
            "\u001b[0;31mTypeError\u001b[0m                                 Traceback (most recent call last)",
            "\u001b[0;32m<ipython-input-53-2275165802>\u001b[0m in \u001b[0;36m<cell line: 0>\u001b[0;34m()\u001b[0m\n\u001b[1;32m      1\u001b[0m \u001b[0mname\u001b[0m \u001b[0;34m=\u001b[0m \u001b[0;34m\"Alice\"\u001b[0m\u001b[0;34m\u001b[0m\u001b[0;34m\u001b[0m\u001b[0m\n\u001b[0;32m----> 2\u001b[0;31m \u001b[0mname\u001b[0m\u001b[0;34m[\u001b[0m\u001b[0;36m0\u001b[0m\u001b[0;34m]\u001b[0m \u001b[0;34m=\u001b[0m \u001b[0;34m\"B\"\u001b[0m  \u001b[0;31m# ❌ Error: Strings are immutable!\u001b[0m\u001b[0;34m\u001b[0m\u001b[0;34m\u001b[0m\u001b[0m\n\u001b[0m",
            "\u001b[0;31mTypeError\u001b[0m: 'str' object does not support item assignment"
          ]
        }
      ]
    },
    {
      "cell_type": "markdown",
      "source": [
        "# Rather, a fresh string needs to be made:"
      ],
      "metadata": {
        "id": "Z-RN9OiY_xZw"
      }
    },
    {
      "cell_type": "code",
      "source": [
        "name = \"B\" + name[1:]  # Creates a new string\n",
        "print(name)  # Output: \"Blice\""
      ],
      "metadata": {
        "id": "bghZ9E8l_fdZ"
      },
      "execution_count": null,
      "outputs": []
    },
    {
      "cell_type": "markdown",
      "source": [
        "3. What are the main differences between lists and tuples in Python ?\n",
        " -  Part\n",
        "\n",
        "List\n",
        "\n",
        "Tuple\n",
        "\n",
        "Changeability\n",
        "\n",
        "✅ Changeable—can be changed\n",
        "\n",
        "❌ Unchangeable – can't be changed\n",
        "\n",
        "Syntax\n",
        "\n",
        "The brackets are [1, 2, 3].\n",
        "\n",
        "(1, 2, 3) Parentheses\n",
        "\n",
        "How well it works\n",
        "\n",
        "Slower because of how it behaves dynamically\n",
        "\n",
        "Faster (because it can't be changed)\n",
        "\n",
        "Ways\n",
        "\n",
        "More built-in methods, like append()\n",
        "\n",
        "Less built-in ways\n",
        "\n",
        "Example of a Use Case\n",
        "\n",
        "When information can change over time\n",
        "\n",
        "When data should not change\n",
        "\n",
        "How much memory is being used\n",
        "\n",
        "Takes up more memory\n",
        "\n",
        "Takes up less memory\n",
        "\n",
        "Can be a Key in a Dictionary\n",
        "\n",
        "❌ No (not hashable)\n",
        "\n",
        "Yes, but only if all the parts can be hashed.\n",
        "\n",
        "Safety\n",
        "\n",
        "More likely to change without meaning to\n",
        "\n",
        "Less likely to be changed by accident"
      ],
      "metadata": {
        "id": "e81YIzfx_-Jp"
      }
    },
    {
      "cell_type": "code",
      "source": [
        "# List\n",
        "my_list = [1, 2, 3]\n",
        "my_list[0] = 10       # ✅ Works\n",
        "\n",
        "# Tuple\n",
        "my_tuple = (1, 2, 3)\n",
        "# my_tuple[0] = 10     ❌ Error: 'tuple' object does not support item assignment\n"
      ],
      "metadata": {
        "id": "7SNZFoCSCSPl"
      },
      "execution_count": null,
      "outputs": []
    },
    {
      "cell_type": "markdown",
      "source": [
        "4. Describe how dictionaries store data?\n",
        " - Dictionaries store data in key-value pairs using a hash table. Each key is hashed to a memory location where its value is stored."
      ],
      "metadata": {
        "id": "Y_3bHm5eCVQq"
      }
    },
    {
      "cell_type": "markdown",
      "source": [
        "5.\tWhy might you use a set instead of a list in Python?\n",
        " - To store unique elements only.\n",
        "To perform faster membership tests (in is faster in sets).\n"
      ],
      "metadata": {
        "id": "452cX6Ma9YOF"
      }
    },
    {
      "cell_type": "markdown",
      "source": [
        "6. What is a string in Python, and how is it different from a list ?\n",
        " - string is a sequence of characters and it's is immutable\n",
        "A list is a sequence of elementsand it's mutable and can contain different types.\n"
      ],
      "metadata": {
        "id": "2IrdZBQS9xRJ"
      }
    },
    {
      "cell_type": "code",
      "source": [
        "my_list = [1, \"apple\", True, 3.14]\n",
        "my_list[1] = \"banana\"  # Lists are mutable\n",
        "print(my_list)  # Output: [1, \"banana\", True, 3.14]"
      ],
      "metadata": {
        "colab": {
          "base_uri": "https://localhost:8080/"
        },
        "id": "YwtQ7ARw-d3n",
        "outputId": "2ef975eb-0d55-4812-c747-6855958d2f08"
      },
      "execution_count": 54,
      "outputs": [
        {
          "output_type": "stream",
          "name": "stdout",
          "text": [
            "[1, 'banana', True, 3.14]\n"
          ]
        }
      ]
    },
    {
      "cell_type": "markdown",
      "source": [
        " 7. How do tuples ensure data integrity in Python?\n",
        "  - Because tuples are immutable, their data can't be altered accidentally, ensuring that values remain consistent."
      ],
      "metadata": {
        "id": "cs-1AVVq-k04"
      }
    },
    {
      "cell_type": "markdown",
      "source": [
        "8. What is a hash table, and how does it relate to dictionaries in Python?\n",
        "  - A hash table maps keys to values using a hash function. Dictionaries in Python are built on hash tables to provide constant-time lookup."
      ],
      "metadata": {
        "id": "BfgOgtp2_Hiw"
      }
    },
    {
      "cell_type": "markdown",
      "source": [
        "9. Can lists contain different data types in Python?\n",
        "  -  yes list can contain different data type\n",
        "  "
      ],
      "metadata": {
        "id": "lBBB6fdh_VTI"
      }
    },
    {
      "cell_type": "code",
      "source": [
        "mixed_list = [42, \"Hello\", 3.14, True, [1, 2, 3], {\"name\": \"Alice\"}]"
      ],
      "metadata": {
        "id": "mn4lOE7x_6JA"
      },
      "execution_count": 55,
      "outputs": []
    },
    {
      "cell_type": "markdown",
      "source": [
        "10. Explain why strings are immutable in Python?\n",
        " - For memory efficiency, thread safety, and because they are frequently used as dictionary keys (which require immutability for hashing)."
      ],
      "metadata": {
        "id": "XbdKa8xY__LU"
      }
    },
    {
      "cell_type": "markdown",
      "source": [
        "11.DP What advantages do dictionaries offer over lists for certain tasks?\n",
        " - Faster lookups using keys.\n",
        "Key-value mapping for better data representation. More semantic clarity when data has identifiers.\n"
      ],
      "metadata": {
        "id": "MplMSI9yAKFC"
      }
    },
    {
      "cell_type": "markdown",
      "source": [
        "12.P Describe a scenario where using a tuple would be preferable over a list?\n",
        " - A tuple would be preferable over a list when you need to represent a fixed immutable sequence of data like a coordinate point or a set of constants."
      ],
      "metadata": {
        "id": "YCd2UqovAXrT"
      }
    },
    {
      "cell_type": "markdown",
      "source": [
        "13.  How do sets handle duplicate values in Python?\n",
        " - An unordered, mutable collection of distinct elements is called a set in Python. This implies:"
      ],
      "metadata": {
        "id": "6gUbWaENAmlA"
      }
    },
    {
      "cell_type": "code",
      "source": [
        "numbers = {1, 2, 2, 3, 3, 3}\n",
        "print(numbers)  # Output: {1, 2, 3} (duplicates are removed)"
      ],
      "metadata": {
        "colab": {
          "base_uri": "https://localhost:8080/"
        },
        "id": "JnX7UsTdBQt8",
        "outputId": "38c6c8b4-ff49-44d4-d707-f590f40693be"
      },
      "execution_count": 56,
      "outputs": [
        {
          "output_type": "stream",
          "name": "stdout",
          "text": [
            "{1, 2, 3}\n"
          ]
        }
      ]
    },
    {
      "cell_type": "markdown",
      "source": [
        "14.  How does the “in” keyword work differently for lists and dictionaries?\n",
        "  -  in conjunction with lists\n",
        "\n",
        "    Verifies whether the value is present in the list.\n",
        "\n",
        "    carries out a linear scan, which is slow for long lists.\n",
        "\n",
        "    O(n) time complexity (becomes slower as the list grows)."
      ],
      "metadata": {
        "id": "PIs00qHuBV-M"
      }
    },
    {
      "cell_type": "code",
      "source": [
        "fruits = [\"apple\", \"banana\", \"orange\"]\n",
        "print(\"banana\" in fruits)  # True (checks values)\n",
        "print(\"grape\" in fruits)   # False"
      ],
      "metadata": {
        "colab": {
          "base_uri": "https://localhost:8080/"
        },
        "id": "EAUTSZJ2B7NO",
        "outputId": "957bdd0c-ec71-43f4-e341-78436a002dfb"
      },
      "execution_count": 57,
      "outputs": [
        {
          "output_type": "stream",
          "name": "stdout",
          "text": [
            "True\n",
            "False\n"
          ]
        }
      ]
    },
    {
      "cell_type": "markdown",
      "source": [
        "15. Can you modify the elements of a tuple? Explain why or why not?\n",
        " - No. we cannot modify Tuples becasue they are immutable so once created elements can't be changed."
      ],
      "metadata": {
        "id": "sn4bicN2B_LH"
      }
    },
    {
      "cell_type": "markdown",
      "source": [
        "16.  What is a nested dictionary, and give an example of its use case?\n",
        "  - A dictionary that has other dictionaries as values is called a nested dictionary. Similar to how you might arrange information in a tree-like structure, this produces a hierarchical structure that allows you to arrange data in several levels."
      ],
      "metadata": {
        "id": "sHrWgzHVCJT0"
      }
    },
    {
      "cell_type": "code",
      "source": [
        "students = {\"101\": {\"name\": \"Amit\", \"age\": 20},\"102\": {\"name\": \"Priya\", \"age\": 22}}\n",
        "print(students)"
      ],
      "metadata": {
        "colab": {
          "base_uri": "https://localhost:8080/"
        },
        "id": "UZi9ChsOCgkV",
        "outputId": "d9a61ebe-b8bd-49cb-eebb-44c06ef3bf6d"
      },
      "execution_count": 58,
      "outputs": [
        {
          "output_type": "stream",
          "name": "stdout",
          "text": [
            "{'101': {'name': 'Amit', 'age': 20}, '102': {'name': 'Priya', 'age': 22}}\n"
          ]
        }
      ]
    },
    {
      "cell_type": "markdown",
      "source": [
        "17.  Describe the time complexity of accessing elements in a dictionary?\n",
        " - Average-case: O(1) Accessing an item in a dictionary is usually very fast Worst-case (rare): O(n) due to hash collisions."
      ],
      "metadata": {
        "id": "kZ-offLFC_JV"
      }
    },
    {
      "cell_type": "markdown",
      "source": [
        "18.  In what situations are lists preferred over dictionaries?\n",
        " - When data has no unique key.\n",
        "When order matters (before Python 3.7).\n",
        "For simple sequences like numbers, names, etc.\n"
      ],
      "metadata": {
        "id": "u8Lw7J4nDOQg"
      }
    },
    {
      "cell_type": "markdown",
      "source": [
        "19. Why are dictionaries considered unordered, and how does that affect data retrieval?\n",
        "  - Before Python 3.7, dictionaries did not maintain insertion order. From Python 3.7+, they preserve order but still focus on key-based access. Retrieval is based on key, not position."
      ],
      "metadata": {
        "id": "2cFLQQzjDeIY"
      }
    },
    {
      "cell_type": "markdown",
      "source": [
        "20.  Explain the difference between a list and a dictionary in terms of data retrieval?\n",
        " - The way you access the elements and the underlying data structure that permits this access is the primary distinction between lists and dictionaries when it comes to data retrieval.\n",
        ""
      ],
      "metadata": {
        "id": "-HFS1eh7Dub1"
      }
    },
    {
      "cell_type": "code",
      "source": [
        "fruits = [\"apple\", \"banana\", \"cherry\"]\n",
        "\n",
        "# Access by index (position)\n",
        "print(fruits[1])  # Output: \"banana\" (O(1) operation)\n",
        "\n",
        "# Finding an item by value (slow)\n",
        "index = fruits.index(\"cherry\")  # O(n) operation"
      ],
      "metadata": {
        "colab": {
          "base_uri": "https://localhost:8080/"
        },
        "id": "K1klt5HQERSy",
        "outputId": "783bd5a2-94fd-4c14-d020-5d6e7a66e48b"
      },
      "execution_count": 59,
      "outputs": [
        {
          "output_type": "stream",
          "name": "stdout",
          "text": [
            "banana\n"
          ]
        }
      ]
    },
    {
      "cell_type": "markdown",
      "source": [
        " # Practical Questions"
      ],
      "metadata": {
        "id": "evtyaMhPEdom"
      }
    },
    {
      "cell_type": "markdown",
      "source": [
        "1.  Write a code to create a string with your name and print it?\n"
      ],
      "metadata": {
        "id": "_odqgkPLEzbM"
      }
    },
    {
      "cell_type": "code",
      "source": [
        "# Create a string variable containing my name\n",
        "my_name = \"manoranjan \"\n",
        "\n",
        "# Print the string\n",
        "print(my_name)"
      ],
      "metadata": {
        "colab": {
          "base_uri": "https://localhost:8080/"
        },
        "id": "wFINnaDjE8t3",
        "outputId": "184d516b-f66e-43a1-8306-e3026404072e"
      },
      "execution_count": 60,
      "outputs": [
        {
          "output_type": "stream",
          "name": "stdout",
          "text": [
            "manoranjan \n"
          ]
        }
      ]
    },
    {
      "cell_type": "markdown",
      "source": [
        "2. Write a code to find the length of the string \"Hello World\""
      ],
      "metadata": {
        "id": "ZxOzU4DtFOEH"
      }
    },
    {
      "cell_type": "code",
      "source": [
        "# Define the string\n",
        "my_string = \"Hello World\"\n",
        "\n",
        "# Calculate and print its length\n",
        "string_length = len(my_string)\n",
        "print(\"The length of the string is:\", string_length)"
      ],
      "metadata": {
        "colab": {
          "base_uri": "https://localhost:8080/"
        },
        "id": "GQSd1zMjFWmH",
        "outputId": "e6ae87e1-9fbc-4977-8b74-47366b80e352"
      },
      "execution_count": 61,
      "outputs": [
        {
          "output_type": "stream",
          "name": "stdout",
          "text": [
            "The length of the string is: 11\n"
          ]
        }
      ]
    },
    {
      "cell_type": "markdown",
      "source": [
        "3.  Write a code to slice the first 3 characters from the string \"Python Programming\""
      ],
      "metadata": {
        "id": "dMJYgafZFeut"
      }
    },
    {
      "cell_type": "code",
      "source": [
        "text = \"Python Programming\"\n",
        "first_three = text[:3]  # Slice from start (index 0) up to but not including index 3\n",
        "print(first_three)      # Output: Pyt"
      ],
      "metadata": {
        "colab": {
          "base_uri": "https://localhost:8080/"
        },
        "id": "TPy3JBWKFkEn",
        "outputId": "469ebb20-21df-4665-88e2-761f1733c8f7"
      },
      "execution_count": 62,
      "outputs": [
        {
          "output_type": "stream",
          "name": "stdout",
          "text": [
            "Pyt\n"
          ]
        }
      ]
    },
    {
      "cell_type": "markdown",
      "source": [
        "4.  Write a code to convert the string \"hello\" to uppercase?\n"
      ],
      "metadata": {
        "id": "HfcxQlQLFsCM"
      }
    },
    {
      "cell_type": "code",
      "source": [
        "text = \"hello\"\n",
        "uppercase_text = text.upper()\n",
        "print(uppercase_text)  # Output: HELLO"
      ],
      "metadata": {
        "colab": {
          "base_uri": "https://localhost:8080/"
        },
        "id": "wldvM-0CFzoK",
        "outputId": "dcbf24a3-d92f-42b4-b3e3-0b69fa3e02d7"
      },
      "execution_count": 63,
      "outputs": [
        {
          "output_type": "stream",
          "name": "stdout",
          "text": [
            "HELLO\n"
          ]
        }
      ]
    },
    {
      "cell_type": "markdown",
      "source": [
        "5. Write a code to replace the word \"apple\" with \"orange\" in the string \"I like apple\""
      ],
      "metadata": {
        "id": "3scqC_H4F71u"
      }
    },
    {
      "cell_type": "code",
      "source": [
        "original_string = \"I like apple\"\n",
        "new_string = original_string.replace(\"apple\", \"orange\")\n",
        "print(new_string)  # Output: I like orange"
      ],
      "metadata": {
        "colab": {
          "base_uri": "https://localhost:8080/"
        },
        "id": "S-lYCmdBGJ_6",
        "outputId": "9bc18094-152e-4dd9-d7c9-64933ce37e4c"
      },
      "execution_count": 64,
      "outputs": [
        {
          "output_type": "stream",
          "name": "stdout",
          "text": [
            "I like orange\n"
          ]
        }
      ]
    },
    {
      "cell_type": "markdown",
      "source": [
        "6. Write a code to create a list with numbers 1 to 5 and print it?\n"
      ],
      "metadata": {
        "id": "b-bxKmPVGbSc"
      }
    },
    {
      "cell_type": "code",
      "source": [
        "list1 = [1, 2, 3, 4, 5]\n",
        "print(list1)"
      ],
      "metadata": {
        "colab": {
          "base_uri": "https://localhost:8080/"
        },
        "id": "mjOfUca-Ggez",
        "outputId": "072d1b63-058f-4dad-f8af-941f1744667e"
      },
      "execution_count": 65,
      "outputs": [
        {
          "output_type": "stream",
          "name": "stdout",
          "text": [
            "[1, 2, 3, 4, 5]\n"
          ]
        }
      ]
    },
    {
      "cell_type": "markdown",
      "source": [
        "7. Write a code to append the number 10 to the list [1, 2, 3, 4]?\n"
      ],
      "metadata": {
        "id": "nVwOjI2gGwf9"
      }
    },
    {
      "cell_type": "code",
      "source": [
        "my_list = [1, 2, 3, 4]\n",
        "my_list.append(10)  # Adds 10 to the end of the list\n",
        "print(my_list)      # Output: [1, 2, 3, 4, 10]"
      ],
      "metadata": {
        "colab": {
          "base_uri": "https://localhost:8080/"
        },
        "id": "Qb8J5RRqG3Ts",
        "outputId": "a5d11b30-c7fa-4462-b0f4-5628667d2f4f"
      },
      "execution_count": 66,
      "outputs": [
        {
          "output_type": "stream",
          "name": "stdout",
          "text": [
            "[1, 2, 3, 4, 10]\n"
          ]
        }
      ]
    },
    {
      "cell_type": "markdown",
      "source": [
        "8. Write a code to remove the number 3 from the list [1, 2, 3, 4, 5]?\n"
      ],
      "metadata": {
        "id": "WavrmqZZHDHD"
      }
    },
    {
      "cell_type": "code",
      "source": [
        "numbers = [1, 2, 3, 4, 5]\n",
        "numbers.remove(3)  # Removes the first occurrence of 3\n",
        "print(numbers)     # Output: [1, 2, 4, 5]"
      ],
      "metadata": {
        "colab": {
          "base_uri": "https://localhost:8080/"
        },
        "id": "qbq0K_qlHHnr",
        "outputId": "344bac68-1c6d-407b-abe9-4fcbf815528f"
      },
      "execution_count": 67,
      "outputs": [
        {
          "output_type": "stream",
          "name": "stdout",
          "text": [
            "[1, 2, 4, 5]\n"
          ]
        }
      ]
    },
    {
      "cell_type": "markdown",
      "source": [
        "9.  Write a code to access the second element in the list ['a', 'b', 'c', 'd']?\n"
      ],
      "metadata": {
        "id": "Sd1Z7QhwHP6m"
      }
    },
    {
      "cell_type": "code",
      "source": [
        "my_list = ['a', 'b', 'c', 'd']\n",
        "second_element = my_list[1]  # Index 1 refers to the second element\n",
        "print(second_element)        # Output: 'b'"
      ],
      "metadata": {
        "colab": {
          "base_uri": "https://localhost:8080/"
        },
        "id": "EB24OyF8HVXQ",
        "outputId": "e786ada4-f5cb-4592-fb3d-94b8123858dc"
      },
      "execution_count": 68,
      "outputs": [
        {
          "output_type": "stream",
          "name": "stdout",
          "text": [
            "b\n"
          ]
        }
      ]
    },
    {
      "cell_type": "markdown",
      "source": [
        "10.  Write a code to reverse the list [10, 20, 30, 40, 50].?\n"
      ],
      "metadata": {
        "id": "HVlYXTdlHevA"
      }
    },
    {
      "cell_type": "code",
      "source": [
        "numbers = [10, 20, 30, 40, 50]\n",
        "numbers.reverse()  # Reverses the list in-place\n",
        "print(numbers)     # Output: [50, 40, 30, 20, 10]"
      ],
      "metadata": {
        "colab": {
          "base_uri": "https://localhost:8080/"
        },
        "id": "vsbtxRS8HkN1",
        "outputId": "db0e1c0a-3036-4c72-cca2-89bb9158dd09"
      },
      "execution_count": 69,
      "outputs": [
        {
          "output_type": "stream",
          "name": "stdout",
          "text": [
            "[50, 40, 30, 20, 10]\n"
          ]
        }
      ]
    },
    {
      "cell_type": "markdown",
      "source": [
        "11. . Write a code to create a tuple with the elements 100, 200, 300 and print ?\n"
      ],
      "metadata": {
        "id": "bM5OXJPMICNC"
      }
    },
    {
      "cell_type": "code",
      "source": [
        "# Create a tuple\n",
        "my_tuple = (100, 200, 300)\n",
        "\n",
        "# Print the tuple\n",
        "print(my_tuple)"
      ],
      "metadata": {
        "colab": {
          "base_uri": "https://localhost:8080/"
        },
        "id": "BK7UzA48IFDk",
        "outputId": "c4230a3b-35a9-4169-951b-135e78ff9881"
      },
      "execution_count": 70,
      "outputs": [
        {
          "output_type": "stream",
          "name": "stdout",
          "text": [
            "(100, 200, 300)\n"
          ]
        }
      ]
    },
    {
      "cell_type": "markdown",
      "source": [
        "12.  Write a code to access the second-to-last element of the tuple ('red', 'green', 'blue', 'yellow')?"
      ],
      "metadata": {
        "id": "xGxxzzwpIPNn"
      }
    },
    {
      "cell_type": "code",
      "source": [
        "colors = ('red', 'green', 'blue', 'yellow')\n",
        "second_last = colors[-2]  # -2 refers to the second-to-last element\n",
        "print(second_last)  # Output: 'blue'"
      ],
      "metadata": {
        "colab": {
          "base_uri": "https://localhost:8080/"
        },
        "id": "0hxQfxm7IVwT",
        "outputId": "03b5f14b-f087-4e01-a04c-1bc5315def4c"
      },
      "execution_count": 71,
      "outputs": [
        {
          "output_type": "stream",
          "name": "stdout",
          "text": [
            "blue\n"
          ]
        }
      ]
    },
    {
      "cell_type": "markdown",
      "source": [
        "13.  Write a code to find the minimum number in the tuple (10, 20, 5, 15)."
      ],
      "metadata": {
        "id": "Ug930VaeIeMH"
      }
    },
    {
      "cell_type": "code",
      "source": [
        "numbers = (10, 20, 5, 15)\n",
        "minimum = min(numbers)\n",
        "print(minimum)  # Output: 5"
      ],
      "metadata": {
        "colab": {
          "base_uri": "https://localhost:8080/"
        },
        "id": "NoEQvsYJIj6w",
        "outputId": "cc5ae131-fab5-4aa3-865b-a712ab028993"
      },
      "execution_count": 72,
      "outputs": [
        {
          "output_type": "stream",
          "name": "stdout",
          "text": [
            "5\n"
          ]
        }
      ]
    },
    {
      "cell_type": "markdown",
      "source": [
        "14.  Write a code to find the index of the element \"cat\" in the tuple ('dog', 'cat', 'rabbit')."
      ],
      "metadata": {
        "id": "AQpSPMyXIttD"
      }
    },
    {
      "cell_type": "code",
      "source": [
        "animals = ('dog', 'cat', 'rabbit')\n",
        "index_of_cat = animals.index('cat')\n",
        "print(index_of_cat)  # Output: 1"
      ],
      "metadata": {
        "colab": {
          "base_uri": "https://localhost:8080/"
        },
        "id": "NWhjONeRI0xp",
        "outputId": "58affd72-00c9-4103-baf7-ed167aca7ebc"
      },
      "execution_count": 73,
      "outputs": [
        {
          "output_type": "stream",
          "name": "stdout",
          "text": [
            "1\n"
          ]
        }
      ]
    },
    {
      "cell_type": "markdown",
      "source": [
        "15.  Write a code to create a tuple containing three different fruits and check if \"kiwi\" is in it."
      ],
      "metadata": {
        "id": "cCBF7qqzJKWN"
      }
    },
    {
      "cell_type": "code",
      "source": [
        "# Create a tuple of fruits\n",
        "fruits = ('apple', 'banana', 'orange')\n",
        "\n",
        "# Check if \"kiwi\" is in the tuple\n",
        "if 'kiwi' in fruits:\n",
        "    print(\"Yes, 'kiwi' is in the fruits tuple!\")\n",
        "else:\n",
        "    print(\"No, 'kiwi' is not in the fruits tuple.\")"
      ],
      "metadata": {
        "colab": {
          "base_uri": "https://localhost:8080/"
        },
        "id": "vnUyCW9sJQTZ",
        "outputId": "3d71a43d-c54a-4ecd-c7b9-a0bfe7828f96"
      },
      "execution_count": 74,
      "outputs": [
        {
          "output_type": "stream",
          "name": "stdout",
          "text": [
            "No, 'kiwi' is not in the fruits tuple.\n"
          ]
        }
      ]
    },
    {
      "cell_type": "markdown",
      "source": [
        "16.  Write a code to create a set with the elements 'a', 'b', 'c' and print it."
      ],
      "metadata": {
        "id": "zSryjWc8JlIY"
      }
    },
    {
      "cell_type": "code",
      "source": [
        "# Create a set\n",
        "my_set = {'a', 'b', 'c'}\n",
        "\n",
        "# Print the set\n",
        "print(my_set)"
      ],
      "metadata": {
        "colab": {
          "base_uri": "https://localhost:8080/"
        },
        "id": "Hb3isVb6JqNr",
        "outputId": "f0b03aec-6abe-4355-fa4c-5987fbb03a1b"
      },
      "execution_count": 75,
      "outputs": [
        {
          "output_type": "stream",
          "name": "stdout",
          "text": [
            "{'c', 'a', 'b'}\n"
          ]
        }
      ]
    },
    {
      "cell_type": "markdown",
      "source": [
        "17. . Write a code to clear all elements from the set {1, 2, 3, 4, 5}."
      ],
      "metadata": {
        "id": "8EI2o4qlJ1ir"
      }
    },
    {
      "cell_type": "code",
      "source": [
        "my_set = {1, 2, 3, 4, 5}\n",
        "my_set.clear()  # Removes all elements\n",
        "print(my_set)   # Output: set()"
      ],
      "metadata": {
        "colab": {
          "base_uri": "https://localhost:8080/"
        },
        "id": "TUjBnzGMJ7HL",
        "outputId": "4d76e930-b7ad-4d5e-d7fa-533b436dda0c"
      },
      "execution_count": 76,
      "outputs": [
        {
          "output_type": "stream",
          "name": "stdout",
          "text": [
            "set()\n"
          ]
        }
      ]
    },
    {
      "cell_type": "markdown",
      "source": [
        "18.  Write a code to remove the element 4 from the set {1, 2, 3, 4}."
      ],
      "metadata": {
        "id": "b9U1X4ZNKFst"
      }
    },
    {
      "cell_type": "code",
      "source": [
        "my_set = {1, 2, 3, 4}\n",
        "my_set.remove(4)  # Removes the element 4\n",
        "print(my_set)     # Output: {1, 2, 3}"
      ],
      "metadata": {
        "colab": {
          "base_uri": "https://localhost:8080/"
        },
        "id": "KBKmTtfKKKnU",
        "outputId": "fa7c47b8-dd85-4107-9b99-4b0b5ba3b0fa"
      },
      "execution_count": 77,
      "outputs": [
        {
          "output_type": "stream",
          "name": "stdout",
          "text": [
            "{1, 2, 3}\n"
          ]
        }
      ]
    },
    {
      "cell_type": "markdown",
      "source": [
        "19.  Write a code to find the union of two sets {1, 2, 3} and {3, 4, 5}"
      ],
      "metadata": {
        "id": "lEK7wza1KrX_"
      }
    },
    {
      "cell_type": "code",
      "source": [
        "set1 = {1, 2, 3}\n",
        "set2 = {3, 4, 5}\n",
        "union_set = set1.union(set2)\n",
        "print(union_set)  # Output: {1, 2, 3, 4, 5}"
      ],
      "metadata": {
        "colab": {
          "base_uri": "https://localhost:8080/"
        },
        "id": "4J01lS8JKwMD",
        "outputId": "1af99671-44c8-45a4-d62e-708caa6be86e"
      },
      "execution_count": 78,
      "outputs": [
        {
          "output_type": "stream",
          "name": "stdout",
          "text": [
            "{1, 2, 3, 4, 5}\n"
          ]
        }
      ]
    },
    {
      "cell_type": "markdown",
      "source": [
        "20. Write a code to find the intersection of two sets {1, 2, 3} and {2, 3, 4}."
      ],
      "metadata": {
        "id": "RDP8lLO6K8yf"
      }
    },
    {
      "cell_type": "code",
      "source": [
        "set1 = {1, 2, 3}\n",
        "set2 = {2, 3, 4}\n",
        "\n",
        "intersection_set = set1.intersection(set2)\n",
        "print(intersection_set)"
      ],
      "metadata": {
        "colab": {
          "base_uri": "https://localhost:8080/"
        },
        "id": "hBmhCpaaLBE-",
        "outputId": "ddd2b4fc-ba66-4048-cb5f-d823967e65dc"
      },
      "execution_count": 79,
      "outputs": [
        {
          "output_type": "stream",
          "name": "stdout",
          "text": [
            "{2, 3}\n"
          ]
        }
      ]
    },
    {
      "cell_type": "markdown",
      "source": [
        "21.  Write a code to create a dictionary with the keys \"name\", \"age\", and \"city\", and print it."
      ],
      "metadata": {
        "id": "ixdQ5pq-O0Vn"
      }
    },
    {
      "cell_type": "code",
      "source": [
        "# Create a dictionary\n",
        "person = {\n",
        "    \"name\": \"seema\",\n",
        "    \"age\": 30,\n",
        "    \"city\": \"New York\"\n",
        "}\n",
        "\n",
        "# Print the dictionary\n",
        "print(person)"
      ],
      "metadata": {
        "colab": {
          "base_uri": "https://localhost:8080/"
        },
        "id": "UY_H0IYxO553",
        "outputId": "6a709901-05bb-4921-e53f-dc4c477a6911"
      },
      "execution_count": 80,
      "outputs": [
        {
          "output_type": "stream",
          "name": "stdout",
          "text": [
            "{'name': 'seema', 'age': 30, 'city': 'New York'}\n"
          ]
        }
      ]
    },
    {
      "cell_type": "markdown",
      "source": [
        "22. Write a code to add a new key-value pair \"country\": \"USA\" to the dictionary {'name': 'John', 'age': 25}."
      ],
      "metadata": {
        "id": "1mZksC2VPKZk"
      }
    },
    {
      "cell_type": "code",
      "source": [
        "# Original dictionary\n",
        "person = {'name': 'rahul', 'age': 25}\n",
        "\n",
        "# Add new key-value pair\n",
        "person['country'] = 'USA'\n",
        "\n",
        "# Print the updated dictionary\n",
        "print(person)"
      ],
      "metadata": {
        "colab": {
          "base_uri": "https://localhost:8080/"
        },
        "id": "Vp2t411KPQDj",
        "outputId": "9a21d8cd-56fa-4838-ac42-95a81725fa9b"
      },
      "execution_count": 81,
      "outputs": [
        {
          "output_type": "stream",
          "name": "stdout",
          "text": [
            "{'name': 'rahul', 'age': 25, 'country': 'USA'}\n"
          ]
        }
      ]
    },
    {
      "cell_type": "markdown",
      "source": [
        "23.  Write a code to access the value associated with the key \"name\" in the dictionary {'name': 'Alice', 'age': 30}."
      ],
      "metadata": {
        "id": "yg-P7_UaPj-3"
      }
    },
    {
      "cell_type": "code",
      "source": [
        "person = {'name': 'sanjukta', 'age': 30}\n",
        "name_value = person['name']\n",
        "print(name_value)  # Output: Alice"
      ],
      "metadata": {
        "colab": {
          "base_uri": "https://localhost:8080/"
        },
        "id": "0zaWFB5XPpFn",
        "outputId": "e2ef8511-8df4-4b67-9eab-19a85ce2a444"
      },
      "execution_count": 82,
      "outputs": [
        {
          "output_type": "stream",
          "name": "stdout",
          "text": [
            "sanjukta\n"
          ]
        }
      ]
    },
    {
      "cell_type": "markdown",
      "source": [],
      "metadata": {
        "id": "G9fV_qcXEkgO"
      }
    },
    {
      "cell_type": "markdown",
      "source": [
        "24. Write a code to remove the key \"age\" from the dictionary {'name': 'Bob', 'age': 22, 'city': 'New York'}."
      ],
      "metadata": {
        "id": "q5HBt44eP4OK"
      }
    },
    {
      "cell_type": "code",
      "source": [
        "person = {'name': 'Bob', 'age': 22, 'city': 'New York'}\n",
        "del person['age']  # Removes the key \"age\" and its value\n",
        "print(person)"
      ],
      "metadata": {
        "colab": {
          "base_uri": "https://localhost:8080/"
        },
        "id": "oiUQ3tOQQGHn",
        "outputId": "60394f8f-d63e-463c-dd45-ce613295b419"
      },
      "execution_count": 83,
      "outputs": [
        {
          "output_type": "stream",
          "name": "stdout",
          "text": [
            "{'name': 'Bob', 'city': 'New York'}\n"
          ]
        }
      ]
    },
    {
      "cell_type": "markdown",
      "source": [
        "25. Write a code to check if the key \"city\" exists in the dictionary {'name': 'Alice', 'city': 'Paris'}."
      ],
      "metadata": {
        "id": "an_q8Hj5QPkl"
      }
    },
    {
      "cell_type": "code",
      "source": [
        "person = {'name': 'manoranjan', 'city': 'odisha'}\n",
        "if 'city' in person:\n",
        "    print(\"The key 'city' exists!\")\n",
        "else:\n",
        "    print(\"The key 'city' does not exist.\")"
      ],
      "metadata": {
        "colab": {
          "base_uri": "https://localhost:8080/"
        },
        "id": "UXnkKCZmQfh6",
        "outputId": "a20f1cd7-ba77-44e1-dd2f-dbcad9f6f10e"
      },
      "execution_count": 84,
      "outputs": [
        {
          "output_type": "stream",
          "name": "stdout",
          "text": [
            "The key 'city' exists!\n"
          ]
        }
      ]
    },
    {
      "cell_type": "markdown",
      "source": [
        "26. Write a code to create a list, a tuple, and a dictionary, and print them all."
      ],
      "metadata": {
        "id": "fR57zG7eQ4RP"
      }
    },
    {
      "cell_type": "code",
      "source": [
        "# Create a list\n",
        "my_list = [1, 2, 3, \"apple\", \"banana\"]\n",
        "\n",
        "# Create a tuple (immutable)\n",
        "my_tuple = (10, 20, 30, \"red\", \"blue\")\n",
        "\n",
        "# Create a dictionary (key-value pairs)\n",
        "my_dict = {\n",
        "    \"name\": \"Alice\",\n",
        "    \"age\": 25,\n",
        "    \"city\": \"Paris\"\n",
        "}\n",
        "\n",
        "# Print all three\n",
        "print(\"List:\", my_list)\n",
        "print(\"Tuple:\", my_tuple)\n",
        "print(\"Dictionary:\", my_dict)"
      ],
      "metadata": {
        "colab": {
          "base_uri": "https://localhost:8080/"
        },
        "id": "TL_TTlnwQ8u8",
        "outputId": "0821fbd9-6813-4329-a832-d2a4a42eb963"
      },
      "execution_count": 85,
      "outputs": [
        {
          "output_type": "stream",
          "name": "stdout",
          "text": [
            "List: [1, 2, 3, 'apple', 'banana']\n",
            "Tuple: (10, 20, 30, 'red', 'blue')\n",
            "Dictionary: {'name': 'Alice', 'age': 25, 'city': 'Paris'}\n"
          ]
        }
      ]
    },
    {
      "cell_type": "markdown",
      "source": [
        "27.  Write a code to create a list of 5 random numbers between 1 and 100, sort it in ascending order, and print the\n",
        "result.(replaced)"
      ],
      "metadata": {
        "id": "5GCD4VbBRHU9"
      }
    },
    {
      "cell_type": "code",
      "source": [
        "import random\n",
        "\n",
        "# Generate 5 random numbers between 1 and 100\n",
        "random_numbers = [random.randint(1, 100) for _ in range(5)]\n",
        "\n",
        "# Sort the list in ascending order\n",
        "random_numbers.sort()\n",
        "\n",
        "# Print the result\n",
        "print(\"Sorted random numbers:\", random_numbers)"
      ],
      "metadata": {
        "colab": {
          "base_uri": "https://localhost:8080/"
        },
        "id": "c3uoKTJZRMq8",
        "outputId": "f02f9145-03fc-4e3b-8ab7-315717cbf844"
      },
      "execution_count": 86,
      "outputs": [
        {
          "output_type": "stream",
          "name": "stdout",
          "text": [
            "Sorted random numbers: [40, 48, 77, 80, 98]\n"
          ]
        }
      ]
    },
    {
      "cell_type": "markdown",
      "source": [
        "28. Write a code to create a list with strings and print the element at the third index."
      ],
      "metadata": {
        "id": "Sn2--779RV17"
      }
    },
    {
      "cell_type": "code",
      "source": [
        "# Create a list of strings\n",
        "fruits = [\"apple\", \"banana\", \"cherry\", \"date\", \"elderberry\", \"fig\"]\n",
        "\n",
        "# Print the element at index 3 (4th element)\n",
        "print(\"Element at index 3:\", fruits[3])"
      ],
      "metadata": {
        "colab": {
          "base_uri": "https://localhost:8080/"
        },
        "id": "oukZEX1rRaSU",
        "outputId": "308fa2e1-f5cc-4b5b-9fc8-0ba326f87fbe"
      },
      "execution_count": 87,
      "outputs": [
        {
          "output_type": "stream",
          "name": "stdout",
          "text": [
            "Element at index 3: date\n"
          ]
        }
      ]
    },
    {
      "cell_type": "markdown",
      "source": [
        "29.  Write a code to combine two dictionaries into one and print the result"
      ],
      "metadata": {
        "id": "2nERf82wRhgD"
      }
    },
    {
      "cell_type": "code",
      "source": [
        "dict1 = {'a': 1, 'b': 2}\n",
        "dict2 = {'c': 3, 'd': 4}\n",
        "\n",
        "dict1.update(dict2)  # Adds dict2's key-value pairs to dict1\n",
        "print(\"Combined dictionary:\", dict1)"
      ],
      "metadata": {
        "colab": {
          "base_uri": "https://localhost:8080/"
        },
        "id": "kgJhsJ_SRrFB",
        "outputId": "de9c6ecb-f538-467e-aec1-64a2405aea1c"
      },
      "execution_count": 88,
      "outputs": [
        {
          "output_type": "stream",
          "name": "stdout",
          "text": [
            "Combined dictionary: {'a': 1, 'b': 2, 'c': 3, 'd': 4}\n"
          ]
        }
      ]
    },
    {
      "cell_type": "markdown",
      "source": [
        "30.  Write a code to convert a list of strings into a set."
      ],
      "metadata": {
        "id": "mn7kEW_mRtgL"
      }
    },
    {
      "cell_type": "code",
      "source": [
        "# List of strings (with possible duplicates)\n",
        "string_list = [\"apple\", \"banana\", \"cherry\", \"apple\", \"banana\"]\n",
        "\n",
        "# Convert to a set\n",
        "string_set = set(string_list)\n",
        "\n",
        "# Print the result\n",
        "print(\"Original list:\", string_list)\n",
        "print(\"Converted set:\", string_set)"
      ],
      "metadata": {
        "colab": {
          "base_uri": "https://localhost:8080/"
        },
        "id": "Eci0X7xvRxKl",
        "outputId": "14039639-edbe-44f0-a5f8-db57c0ed11bd"
      },
      "execution_count": 89,
      "outputs": [
        {
          "output_type": "stream",
          "name": "stdout",
          "text": [
            "Original list: ['apple', 'banana', 'cherry', 'apple', 'banana']\n",
            "Converted set: {'cherry', 'banana', 'apple'}\n"
          ]
        }
      ]
    }
  ]
}